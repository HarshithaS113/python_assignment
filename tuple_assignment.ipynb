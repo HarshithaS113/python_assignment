{
 "cells": [
  {
   "cell_type": "code",
   "execution_count": 1,
   "id": "3900b274",
   "metadata": {},
   "outputs": [
    {
     "name": "stdout",
     "output_type": "stream",
     "text": [
      "SOLVED EXAMPLE:\n",
      "Find the sum and product of all elements in a tuple\n",
      "Tuple: (2, 4, 6, 8, 10)\n",
      "Sum: 30\n",
      "Product: 3840\n",
      "--------------------------------------------------\n"
     ]
    }
   ],
   "source": [
    "##Question: Find the sum and product of all elements in a tuple##\n",
    "print(\"SOLVED EXAMPLE:\")\n",
    "print(\"Find the sum and product of all elements in a tuple\")\n",
    "numbers = (2, 4, 6, 8, 10)\n",
    "sum_tuple = sum(numbers)\n",
    "product = 1\n",
    "for num in numbers:\n",
    "    product *= num\n",
    "print(f\"Tuple: {numbers}\")\n",
    "print(f\"Sum: {sum_tuple}\")\n",
    "print(f\"Product: {product}\")\n",
    "print(\"-\" * 50)"
   ]
  },
  {
   "cell_type": "code",
   "execution_count": 2,
   "id": "e68ebc74",
   "metadata": {},
   "outputs": [
    {
     "name": "stdout",
     "output_type": "stream",
     "text": [
      "Question 1: Create a tuple of first 10 natural numbers\n",
      "the first 10 natural numbers are:(1, 2, 3, 4, 5, 6, 7, 8, 9, 10)\n"
     ]
    }
   ],
   "source": [
    "print(\"Question 1: Create a tuple of first 10 natural numbers\")\n",
    "num = (1,2,3,4,5,6,7,8,9,10)\n",
    "print(f\"The first 10 natural numbers are:{num}\")"
   ]
  },
  {
   "cell_type": "code",
   "execution_count": 4,
   "id": "2a990225",
   "metadata": {},
   "outputs": [
    {
     "name": "stdout",
     "output_type": "stream",
     "text": [
      "Question 1: Create a tuple of first 10 natural numbers\n",
      "(1, 2, 3, 4, 5, 6, 7, 8, 9, 10)\n"
     ]
    }
   ],
   "source": [
    "print(\"Question 1: Create a tuple of first 10 natural numbers\")\n",
    "num = tuple(range(1, 11))\n",
    "print(num)\n"
   ]
  },
  {
   "cell_type": "code",
   "execution_count": 5,
   "id": "7b4cf221",
   "metadata": {},
   "outputs": [
    {
     "name": "stdout",
     "output_type": "stream",
     "text": [
      "\n",
      "Question 2: Find the length of tuple (1, 2, 3, 4, 5, 6, 7, 8, 9, 10)\n",
      "the numbers are:(1, 2, 3, 4, 5, 6, 7, 8, 9, 10)\n",
      "the length of the tuple is 10\n"
     ]
    }
   ],
   "source": [
    "print(\"\\nQuestion 2: Find the length of tuple (1, 2, 3, 4, 5, 6, 7, 8, 9, 10)\")\n",
    "num = (1, 2, 3, 4, 5, 6, 7, 8, 9, 10)\n",
    "print(f\"the numbers are:{num}\")\n",
    "length = len(num)\n",
    "print(f\"the length of the tuple is {length}\")"
   ]
  },
  {
   "cell_type": "code",
   "execution_count": 6,
   "id": "72f5415c",
   "metadata": {},
   "outputs": [
    {
     "name": "stdout",
     "output_type": "stream",
     "text": [
      "\n",
      "Question 3: Access the 3rd element from tuple ('a', 'b', 'c', 'd', 'e')\n",
      "The 3rd element is: c\n"
     ]
    }
   ],
   "source": [
    "print(\"\\nQuestion 3: Access the 3rd element from tuple ('a', 'b', 'c', 'd', 'e')\")\n",
    "l = ('a', 'b', 'c', 'd', 'e')\n",
    "print(\"The 3rd element is:\", l[2])"
   ]
  },
  {
   "cell_type": "code",
   "execution_count": 8,
   "id": "85b2197b",
   "metadata": {},
   "outputs": [
    {
     "name": "stdout",
     "output_type": "stream",
     "text": [
      "\n",
      "Question 4: Find the maximum value in tuple (23, 45, 12, 67, 34, 89, 56)\n",
      "the maximum value in tuple is : 89\n"
     ]
    }
   ],
   "source": [
    "print(\"\\nQuestion 4: Find the maximum value in tuple (23, 45, 12, 67, 34, 89, 56)\")\n",
    "l = (23, 45, 12, 67, 34, 89, 56)\n",
    "print(f\"the maximum value in tuple is : {max(l)}\")"
   ]
  },
  {
   "cell_type": "code",
   "execution_count": 9,
   "id": "aba54759",
   "metadata": {},
   "outputs": [
    {
     "name": "stdout",
     "output_type": "stream",
     "text": [
      "\n",
      "Question 5: Count how many times 5 appears in (1, 5, 2, 5, 3, 5, 4, 5, 6)\n",
      "The 5 has appaeraed : 4 \n"
     ]
    }
   ],
   "source": [
    "print(\"\\nQuestion 5: Count how many times 5 appears in (1, 5, 2, 5, 3, 5, 4, 5, 6)\")\n",
    "l = (1, 5, 2, 5, 3, 5, 4, 5, 6)\n",
    "print(f\"The 5 has appaeraed : {l.count(5)} \")"
   ]
  },
  {
   "cell_type": "code",
   "execution_count": 12,
   "id": "73ebc939",
   "metadata": {},
   "outputs": [
    {
     "name": "stdout",
     "output_type": "stream",
     "text": [
      "\n",
      "Question 6: Create a tuple of mixed data types (integer, float, string, boolean)\n",
      "(45, 66.4, 'cat', True)\n"
     ]
    }
   ],
   "source": [
    "print(\"\\nQuestion 6: Create a tuple of mixed data types (integer, float, string, boolean)\")\n",
    "l = (45, 66.4, \"cat\", True)\n",
    "print(f\"{l}\")"
   ]
  },
  {
   "cell_type": "code",
   "execution_count": 16,
   "id": "321af492",
   "metadata": {},
   "outputs": [
    {
     "name": "stdout",
     "output_type": "stream",
     "text": [
      "\n",
      "Question 7: Find the index of element 'python' in ('java', 'python', 'c++', 'javascript')\n",
      "the index of element 'python' is 1\n"
     ]
    }
   ],
   "source": [
    "print(\"\\nQuestion 7: Find the index of element 'python' in ('java', 'python', 'c++', 'javascript')\")\n",
    "l = (\"java\", \"python\", \"c++\", \"javascript\")\n",
    "print(f\"the index of element 'python' is {l.index('python')}\")"
   ]
  },
  {
   "cell_type": "code",
   "execution_count": 17,
   "id": "60202bc4",
   "metadata": {},
   "outputs": [
    {
     "name": "stdout",
     "output_type": "stream",
     "text": [
      "\n",
      "Question 8: Check if 25 exists in tuple (10, 20, 30, 40, 50)\n",
      "False\n"
     ]
    }
   ],
   "source": [
    "print(\"\\nQuestion 8: Check if 25 exists in tuple (10, 20, 30, 40, 50)\")\n",
    "list_of_numbers = (10,20,30,40,50)\n",
    "print(25 in list_of_numbers)"
   ]
  },
  {
   "cell_type": "code",
   "execution_count": 20,
   "id": "fb4041f9",
   "metadata": {},
   "outputs": [
    {
     "name": "stdout",
     "output_type": "stream",
     "text": [
      "\n",
      "Question 9: Create a tuple of first 5 even numbers\n",
      "The first 5 even numbers are (2, 4, 6, 8, 10)\n"
     ]
    }
   ],
   "source": [
    "print(\"\\nQuestion 9: Create a tuple of first 5 even numbers\")\n",
    "l = (2,4,6,8,10)\n",
    "print(f\"The first 5 even numbers are {l}\")"
   ]
  },
  {
   "cell_type": "code",
   "execution_count": 23,
   "id": "a9bb6db3",
   "metadata": {},
   "outputs": [
    {
     "name": "stdout",
     "output_type": "stream",
     "text": [
      "\n",
      "Question 9: Create a tuple of first 5 even numbers\n",
      "(2, 4, 6, 8, 10)\n"
     ]
    }
   ],
   "source": [
    "print(\"\\nQuestion 9: Create a tuple of first 5 even numbers\")\n",
    "even_numbers = tuple(range(2,11,2))\n",
    "print(even_numbers)"
   ]
  },
  {
   "cell_type": "code",
   "execution_count": 25,
   "id": "d9758922",
   "metadata": {},
   "outputs": [
    {
     "name": "stdout",
     "output_type": "stream",
     "text": [
      "\n",
      "Question 10: Find the average of numbers in tuple (15, 23, 31, 42, 56, 78)\n",
      "The average of numbers in tuple are 40.833333333333336\n"
     ]
    }
   ],
   "source": [
    "print(\"\\nQuestion 10: Find the average of numbers in tuple (15, 23, 31, 42, 56, 78)\")\n",
    "num = (15, 23, 31, 42, 56, 78)\n",
    "sum_of_num = sum(num)\n",
    "length = len(num)\n",
    "average = (sum_of_num)/len(num)\n",
    "print(f\"The average of numbers in tuple are {average}\")"
   ]
  },
  {
   "cell_type": "code",
   "execution_count": null,
   "id": "79537f1c",
   "metadata": {},
   "outputs": [],
   "source": []
  }
 ],
 "metadata": {
  "kernelspec": {
   "display_name": "Python 3 (ipykernel)",
   "language": "python",
   "name": "python3"
  },
  "language_info": {
   "codemirror_mode": {
    "name": "ipython",
    "version": 3
   },
   "file_extension": ".py",
   "mimetype": "text/x-python",
   "name": "python",
   "nbconvert_exporter": "python",
   "pygments_lexer": "ipython3",
   "version": "3.9.13"
  }
 },
 "nbformat": 4,
 "nbformat_minor": 5
}
