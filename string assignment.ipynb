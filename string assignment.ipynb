{
 "cells": [
  {
   "cell_type": "code",
   "execution_count": 1,
   "id": "c52100fb",
   "metadata": {},
   "outputs": [
    {
     "name": "stdout",
     "output_type": "stream",
     "text": [
      "SOLVED EXAMPLE:\n",
      "Count vowels in the string 'Hello World'\n",
      "String: Hello World\n",
      "Number of vowels: 3\n",
      "--------------------------------------------------\n"
     ]
    }
   ],
   "source": [
    "print(\"SOLVED EXAMPLE:\")\n",
    "print(\"Count vowels in the string 'Hello World'\")\n",
    "text = \"Hello World\"\n",
    "vowels = \"aeiouAEIOU\"\n",
    "count = sum(1 for char in text if char in vowels)\n",
    "print(f\"String: {text}\")\n",
    "print(f\"Number of vowels: {count}\")\n",
    "print(\"-\" * 50)"
   ]
  },
  {
   "cell_type": "code",
   "execution_count": 28,
   "id": "9d4bf621",
   "metadata": {},
   "outputs": [
    {
     "name": "stdout",
     "output_type": "stream",
     "text": [
      "Question 1: Reverse the string 'Python Programming'\n",
      "Reversed string: gnimmargorP nohtyP\n"
     ]
    }
   ],
   "source": [
    "print(\"Question 1: Reverse the string 'Python Programming'\")\n",
    "x = \"Python Programming\"\n",
    "reversed_text = x[::-1]\n",
    "print(\"Reversed string:\", reversed_text)"
   ]
  },
  {
   "cell_type": "code",
   "execution_count": 30,
   "id": "2142b108",
   "metadata": {},
   "outputs": [
    {
     "name": "stdout",
     "output_type": "stream",
     "text": [
      "\n",
      "Question 2: Check if 'racecar' is a palindrome\n",
      "It is a palindrome\n"
     ]
    }
   ],
   "source": [
    "print(\"\\nQuestion 2: Check if 'racecar' is a palindrome\")\n",
    "x = \"racecar\"\n",
    "reversed_text = x[::-1]\n",
    "if x == reversed_text:\n",
    "    print(f\"It is a palindrome\")\n",
    "else:\n",
    "    print(f\"It is not a palimdrome\")"
   ]
  },
  {
   "cell_type": "code",
   "execution_count": 31,
   "id": "1f2cb8c5",
   "metadata": {},
   "outputs": [
    {
     "name": "stdout",
     "output_type": "stream",
     "text": [
      "\n",
      "Question 3: Count the number of words in 'Python is a great programming language'\n",
      "the number of words are 6 \n"
     ]
    }
   ],
   "source": [
    "print(\"\\nQuestion 3: Count the number of words in 'Python is a great programming language'\")\n",
    "x = \"Python is a great programming language\"\n",
    "words = x.split()\n",
    "count = len(words)\n",
    "print(f\"the number of words are {count} \")"
   ]
  },
  {
   "cell_type": "code",
   "execution_count": 32,
   "id": "0a45be48",
   "metadata": {},
   "outputs": [
    {
     "name": "stdout",
     "output_type": "stream",
     "text": [
      "\n",
      "Question 4: Convert 'hello world' to title case\n",
      "Hello World\n"
     ]
    }
   ],
   "source": [
    "print(\"\\nQuestion 4: Convert 'hello world' to title case\")\n",
    "x = \"hello world\"\n",
    "title_case = x.title()\n",
    "print(title_case)"
   ]
  },
  {
   "cell_type": "code",
   "execution_count": 33,
   "id": "b59cc835",
   "metadata": {},
   "outputs": [
    {
     "data": {
      "text/plain": [
       "'Hello World'"
      ]
     },
     "execution_count": 33,
     "metadata": {},
     "output_type": "execute_result"
    }
   ],
   "source": [
    "x = \"hello world\"\n",
    "x.title()"
   ]
  },
  {
   "cell_type": "code",
   "execution_count": 34,
   "id": "5ff0e84c",
   "metadata": {},
   "outputs": [
    {
     "name": "stdout",
     "output_type": "stream",
     "text": [
      "\n",
      "Question 5: Find the length of string 'Data Science'\n",
      "12\n"
     ]
    }
   ],
   "source": [
    "print(\"\\nQuestion 5: Find the length of string 'Data Science'\")\n",
    "x = \"Data Science\"\n",
    "length = len(x)\n",
    "print(length)"
   ]
  },
  {
   "cell_type": "code",
   "execution_count": 35,
   "id": "0b3b6e89",
   "metadata": {},
   "outputs": [
    {
     "name": "stdout",
     "output_type": "stream",
     "text": [
      "\n",
      "Question 6: Replace all spaces with underscores in 'Machine Learning'\n",
      "Machine_Learning\n"
     ]
    }
   ],
   "source": [
    "print(\"\\nQuestion 6: Replace all spaces with underscores in 'Machine Learning'\")\n",
    "x = \"Machine Learning\"\n",
    "new_x = x.replace(\" \",\"_\")\n",
    "print(new_x)"
   ]
  },
  {
   "cell_type": "code",
   "execution_count": 38,
   "id": "af7c3c53",
   "metadata": {},
   "outputs": [
    {
     "name": "stdout",
     "output_type": "stream",
     "text": [
      "\n",
      "Question 7: Check if 'python' is in 'Python Programming Language'\n",
      "Yes, 'python' is present in the string.\n"
     ]
    }
   ],
   "source": [
    "print(\"\\nQuestion 7: Check if 'python' is in 'Python Programming Language'\")\n",
    "x = \"Python Programming Language\"\n",
    "word = \"python\"\n",
    "if word.lower() in x.lower():\n",
    "    print(\"Yes, 'python' is present in the string.\")\n",
    "else:\n",
    "    print(\"No, 'python' is not present in the string.\")"
   ]
  },
  {
   "cell_type": "code",
   "execution_count": 41,
   "id": "48d5d8c0",
   "metadata": {},
   "outputs": [
    {
     "name": "stdout",
     "output_type": "stream",
     "text": [
      "\n",
      "Question 8: Extract the first 5 characters from 'Artificial Intelligence'\n",
      "First 5 characters are :Artif\n"
     ]
    }
   ],
   "source": [
    "print(\"\\nQuestion 8: Extract the first 5 characters from 'Artificial Intelligence'\")\n",
    "x = \"Artificial Intelligence\"\n",
    "first_five = x[:5]\n",
    "\n",
    "print(f\"First 5 characters are :{first_five}\")\n"
   ]
  },
  {
   "cell_type": "code",
   "execution_count": 44,
   "id": "fa4ea176",
   "metadata": {},
   "outputs": [
    {
     "name": "stdout",
     "output_type": "stream",
     "text": [
      "\n",
      "Question 9: Convert 'UPPERCASE' to lowercase\n",
      "uppercase\n"
     ]
    }
   ],
   "source": [
    "print(\"\\nQuestion 9: Convert 'UPPERCASE' to lowercase\")\n",
    "x = \"UPPERCASE\"\n",
    "new_x = x.lower()\n",
    "print(new_x)"
   ]
  },
  {
   "cell_type": "code",
   "execution_count": 45,
   "id": "890fef24",
   "metadata": {},
   "outputs": [
    {
     "name": "stdout",
     "output_type": "stream",
     "text": [
      "\n",
      "Question 10: Remove all vowels from 'Computer Science'\n",
      "Original string: Computer Science\n",
      "String without vowels: Cmptr Scnc\n"
     ]
    }
   ],
   "source": [
    "print(\"\\nQuestion 10: Remove all vowels from 'Computer Science'\")\n",
    "x = \"Computer Science\"\n",
    "vowels = \"aeiouAEIOU\"\n",
    "result = ''.join([char for char in x if char not in vowels])\n",
    "print(f\"Original string: {x}\")  \n",
    "print(f\"String without vowels: {result}\")"
   ]
  },
  {
   "cell_type": "code",
   "execution_count": 53,
   "id": "10a82d41",
   "metadata": {},
   "outputs": [
    {
     "name": "stdout",
     "output_type": "stream",
     "text": [
      "\n",
      "Question 11: Find the most frequent character in 'mississippi'\n",
      "The frequent character is 'i' and it occurred 4 times.\n"
     ]
    }
   ],
   "source": [
    "print(\"\\nQuestion 11: Find the most frequent character in 'mississippi'\")\n",
    "\n",
    "from collections import Counter\n",
    "\n",
    "x = \"mississippi\"\n",
    "frequent_char = Counter(x)\n",
    "most_common = frequent_char.most_common(1)[0]\n",
    "print(f\"The frequent character is '{most_common[0]}' and it occurred {most_common[1]} times.\")\n"
   ]
  },
  {
   "cell_type": "code",
   "execution_count": 54,
   "id": "1c5fafbd",
   "metadata": {},
   "outputs": [
    {
     "name": "stdout",
     "output_type": "stream",
     "text": [
      "\n",
      "Question 12: Check if two strings are anagrams: 'listen' and 'silent'\n",
      "The two strings are anagrams\n"
     ]
    }
   ],
   "source": [
    "print(\"\\nQuestion 12: Check if two strings are anagrams: 'listen' and 'silent'\")\n",
    "x = \"listen\"\n",
    "y = \"silent\"\n",
    "if sorted(x) == sorted(y):\n",
    "    print(\"The two strings are anagrams\")\n",
    "else:\n",
    "    print(\"The two strings are not anagrams\")"
   ]
  },
  {
   "cell_type": "code",
   "execution_count": 55,
   "id": "69a7a896",
   "metadata": {},
   "outputs": [
    {
     "name": "stdout",
     "output_type": "stream",
     "text": [
      "\n",
      "Question 13: Capitalize first letter of each word in 'python programming language'\n"
     ]
    },
    {
     "data": {
      "text/plain": [
       "'Python Programming Language'"
      ]
     },
     "execution_count": 55,
     "metadata": {},
     "output_type": "execute_result"
    }
   ],
   "source": [
    "print(\"\\nQuestion 13: Capitalize first letter of each word in 'python programming language'\")\n",
    "x = \"python programming language\"\n",
    "x.title()"
   ]
  },
  {
   "cell_type": "code",
   "execution_count": 57,
   "id": "9ddff3a8",
   "metadata": {},
   "outputs": [
    {
     "name": "stdout",
     "output_type": "stream",
     "text": [
      "\n",
      "Question 14: Count consonants in 'Hello World'\n",
      "Original string: Hello World\n",
      "String without vowels: HllWrld\n",
      "7\n"
     ]
    }
   ],
   "source": [
    "print(\"\\nQuestion 14: Count consonants in 'Hello World'\")\n",
    "x = \"Hello World\"\n",
    "vowels = \"aeiouAEIOU \"\n",
    "result = ''.join([char for char in x if char not in vowels])\n",
    "print(f\"Original string: {x}\")  \n",
    "print(f\"String without vowels: {result}\")\n",
    "print(len(result))"
   ]
  },
  {
   "cell_type": "code",
   "execution_count": 60,
   "id": "5cc0394e",
   "metadata": {},
   "outputs": [
    {
     "name": "stdout",
     "output_type": "stream",
     "text": [
      "\n",
      "Question 15: Find the longest word in 'Python is a programming language'\n",
      "The longest word is: programming\n"
     ]
    }
   ],
   "source": [
    "print(\"\\nQuestion 15: Find the longest word in 'Python is a programming language'\")\n",
    "text = \"Python is a programming language\"\n",
    "words = text.split()\n",
    "longest_word = max(words, key=len)\n",
    "print(f\"The longest word is: {longest_word}\")"
   ]
  },
  {
   "cell_type": "code",
   "execution_count": 61,
   "id": "826663a6",
   "metadata": {},
   "outputs": [
    {
     "name": "stdout",
     "output_type": "stream",
     "text": [
      "\n",
      "Question 16: Remove all punctuation from 'Hello, World! How are you?'\n",
      "Text without punctuation:Hello World How are you\n"
     ]
    }
   ],
   "source": [
    "print(\"\\nQuestion 16: Remove all punctuation from 'Hello, World! How are you?'\")\n",
    "import string\n",
    "text = \"Hello, World! How are you?\"\n",
    "clean_text = ''.join(char for char in text if char not in string.punctuation)\n",
    "print(f\"Text without punctuation:{clean_text}\")"
   ]
  },
  {
   "cell_type": "code",
   "execution_count": 64,
   "id": "8f575f78",
   "metadata": {},
   "outputs": [
    {
     "name": "stdout",
     "output_type": "stream",
     "text": [
      "\n",
      "Question 17: Check if string starts with 'Python'\n",
      "No, the string does not start with 'Python'\n"
     ]
    }
   ],
   "source": [
    "print(\"\\nQuestion 17: Check if string starts with 'Python'\")\n",
    "x = \"The world is beautiful\"\n",
    "if x.startswith(\"Python\"):\n",
    "    print(\"Yes, the string starts with 'Python'\")\n",
    "else:\n",
    "    print(\"No, the string does not start with 'Python'\")"
   ]
  },
  {
   "cell_type": "code",
   "execution_count": 66,
   "id": "39bdf63c",
   "metadata": {},
   "outputs": [
    {
     "name": "stdout",
     "output_type": "stream",
     "text": [
      "\n",
      "Question 18: Find the index of first occurrence of 'o' in 'Hello World'\n"
     ]
    },
    {
     "data": {
      "text/plain": [
       "4"
      ]
     },
     "execution_count": 66,
     "metadata": {},
     "output_type": "execute_result"
    }
   ],
   "source": [
    "print(\"\\nQuestion 18: Find the index of first occurrence of 'o' in 'Hello World'\")\n",
    "x = \"Hello World\"\n",
    "x.index('o')"
   ]
  },
  {
   "cell_type": "code",
   "execution_count": 67,
   "id": "321a7e14",
   "metadata": {},
   "outputs": [
    {
     "name": "stdout",
     "output_type": "stream",
     "text": [
      "\n",
      "Question 19: Split string 'apple,banana,orange' by comma\n",
      "new list is ['apple', 'banana', 'orange']\n"
     ]
    }
   ],
   "source": [
    "print(\"\\nQuestion 19: Split string 'apple,banana,orange' by comma\")\n",
    "x = \"apple,banana,orange\"\n",
    "new_x =x.split(\",\")\n",
    "print(f\"new list is {new_x}\")"
   ]
  },
  {
   "cell_type": "code",
   "execution_count": 71,
   "id": "8e3ce006",
   "metadata": {},
   "outputs": [
    {
     "name": "stdout",
     "output_type": "stream",
     "text": [
      "\n",
      "Question 20: Join list ['Python', 'is', 'awesome'] with spaces\n",
      "Python is awesome\n"
     ]
    }
   ],
   "source": [
    "print(\"\\nQuestion 20: Join list ['Python', 'is', 'awesome'] with spaces\")\n",
    "x =  ['Python', 'is', 'awesome']\n",
    "sentence = ' '.join(x)\n",
    "print(sentence)"
   ]
  },
  {
   "cell_type": "code",
   "execution_count": 72,
   "id": "eef1294b",
   "metadata": {},
   "outputs": [
    {
     "name": "stdout",
     "output_type": "stream",
     "text": [
      "\n",
      "Question 21: Check if string contains only digits: '12345'\n"
     ]
    },
    {
     "data": {
      "text/plain": [
       "True"
      ]
     },
     "execution_count": 72,
     "metadata": {},
     "output_type": "execute_result"
    }
   ],
   "source": [
    "print(\"\\nQuestion 21: Check if string contains only digits: '12345'\")\n",
    "x = \"12345\"\n",
    "x.isdigit()"
   ]
  },
  {
   "cell_type": "code",
   "execution_count": 73,
   "id": "ad0e575d",
   "metadata": {},
   "outputs": [
    {
     "name": "stdout",
     "output_type": "stream",
     "text": [
      "\n",
      "Question 22: Check if string contains only letters: 'HelloWorld'\n"
     ]
    },
    {
     "data": {
      "text/plain": [
       "True"
      ]
     },
     "execution_count": 73,
     "metadata": {},
     "output_type": "execute_result"
    }
   ],
   "source": [
    "print(\"\\nQuestion 22: Check if string contains only letters: 'HelloWorld'\")\n",
    "x = \"HelloWorld\"\n",
    "x.isalpha()"
   ]
  },
  {
   "cell_type": "code",
   "execution_count": 74,
   "id": "effc04d6",
   "metadata": {},
   "outputs": [
    {
     "name": "stdout",
     "output_type": "stream",
     "text": [
      "\n",
      "Question 23: Convert 'hello world' to 'hElLo WoRlD' (alternating case)\n"
     ]
    },
    {
     "data": {
      "text/plain": [
       "'HeLlO wOrLd'"
      ]
     },
     "execution_count": 74,
     "metadata": {},
     "output_type": "execute_result"
    }
   ],
   "source": [
    "print(\"\\nQuestion 23: Convert 'hello world' to 'hElLo WoRlD' (alternating case)\")\n",
    "x = \"hElLo WoRlD\"\n",
    "x.swapcase()"
   ]
  },
  {
   "cell_type": "code",
   "execution_count": 80,
   "id": "5d3c40a1",
   "metadata": {},
   "outputs": [
    {
     "name": "stdout",
     "output_type": "stream",
     "text": [
      "\n",
      "Question 24: Find all positions of 'a' in 'banana'\n",
      "[1, 3, 5]\n"
     ]
    }
   ],
   "source": [
    "print(\"\\nQuestion 24: Find all positions of 'a' in 'banana'\")\n",
    "x = \"banana\"\n",
    "position = [index for index, char in enumerate(x) if char == 'a']\n",
    "print(position)"
   ]
  },
  {
   "cell_type": "code",
   "execution_count": 82,
   "id": "de08bb0a",
   "metadata": {},
   "outputs": [
    {
     "name": "stdout",
     "output_type": "stream",
     "text": [
      "\n",
      "Question 25: Remove leading and trailing whitespace from '  Hello World  '\n"
     ]
    },
    {
     "data": {
      "text/plain": [
       "'Hello World'"
      ]
     },
     "execution_count": 82,
     "metadata": {},
     "output_type": "execute_result"
    }
   ],
   "source": [
    "print(\"\\nQuestion 25: Remove leading and trailing whitespace from '  Hello World  '\")\n",
    "x = \"  Hello World  \"\n",
    "x.strip()"
   ]
  },
  {
   "cell_type": "code",
   "execution_count": 83,
   "id": "7bcc39e0",
   "metadata": {},
   "outputs": [
    {
     "name": "stdout",
     "output_type": "stream",
     "text": [
      "\n",
      "Question 26: Check if string ends with 'ing': 'programming'\n"
     ]
    },
    {
     "data": {
      "text/plain": [
       "True"
      ]
     },
     "execution_count": 83,
     "metadata": {},
     "output_type": "execute_result"
    }
   ],
   "source": [
    "print(\"\\nQuestion 26: Check if string ends with 'ing': 'programming'\")\n",
    "x = \"programming\"\n",
    "x.endswith('ing')"
   ]
  },
  {
   "cell_type": "code",
   "execution_count": 86,
   "id": "ba1bf9c8",
   "metadata": {},
   "outputs": [
    {
     "name": "stdout",
     "output_type": "stream",
     "text": [
      "\n",
      "Question 27: Replace first occurrence of 'o' with '0' in 'Hello World'\n",
      "Hell0 World\n"
     ]
    }
   ],
   "source": [
    "print(\"\\nQuestion 27: Replace first occurrence of 'o' with '0' in 'Hello World'\")\n",
    "x = \"Hello World\"\n",
    "x = x.replace('o', '0', 1)\n",
    "print(x)"
   ]
  },
  {
   "cell_type": "code",
   "execution_count": 88,
   "id": "5fd8fecd",
   "metadata": {},
   "outputs": [
    {
     "name": "stdout",
     "output_type": "stream",
     "text": [
      "\n",
      "Question 28: Find the shortest word in 'Python is a programming language'\n",
      "The shortest word is: a\n"
     ]
    }
   ],
   "source": [
    "print(\"\\nQuestion 28: Find the shortest word in 'Python is a programming language'\")\n",
    "text = \"Python is a programming language\"\n",
    "words = text.split()\n",
    "shortest_word = min(words, key=len)\n",
    "print(f\"The shortest word is: {shortest_word}\")"
   ]
  },
  {
   "cell_type": "code",
   "execution_count": 98,
   "id": "767db6cd",
   "metadata": {},
   "outputs": [
    {
     "name": "stdout",
     "output_type": "stream",
     "text": [
      "\n",
      "Question 29: Count words that start with 'p' in 'Python programming is powerful'\n",
      "Number of words starting with 'p': 3\n"
     ]
    }
   ],
   "source": [
    "print(\"\\nQuestion 29: Count words that start with 'p' in 'Python programming is powerful'\")\n",
    "x = \"Python programming is powerful\"\n",
    "words = x.split()\n",
    "count = sum(1 for word in words if word.lower().startswith('p'))\n",
    "print(f\"Number of words starting with 'p': {count}\")"
   ]
  },
  {
   "cell_type": "code",
   "execution_count": 101,
   "id": "f3f85eaf",
   "metadata": {},
   "outputs": [
    {
     "name": "stdout",
     "output_type": "stream",
     "text": [
      "\n",
      "Question 30: Reverse words in 'Hello World Python'\n",
      "nohtyP dlroW olleH\n"
     ]
    }
   ],
   "source": [
    "print(\"\\nQuestion 30: Reverse words in 'Hello World Python'\")\n",
    "x = \"Hello World Python\"\n",
    "reversed_text = x[::-1]\n",
    "print(reversed_text )"
   ]
  },
  {
   "cell_type": "code",
   "execution_count": 102,
   "id": "52a02053",
   "metadata": {},
   "outputs": [
    {
     "name": "stdout",
     "output_type": "stream",
     "text": [
      "\n",
      "Question 31: Check if string is a valid email format: 'user@example.com'\n",
      "'user@example.com' is a valid email format.\n"
     ]
    }
   ],
   "source": [
    "print(\"\\nQuestion 31: Check if string is a valid email format: 'user@example.com'\")\n",
    "import re\n",
    "email = \"user@example.com\"\n",
    "pattern = r'^[\\w\\.-]+@[\\w\\.-]+\\.\\w+$'\n",
    "if re.match(pattern, email):\n",
    "    print(f\"'{email}' is a valid email format.\")\n",
    "else:\n",
    "    print(f\"'{email}' is NOT a valid email format.\")"
   ]
  },
  {
   "cell_type": "code",
   "execution_count": 103,
   "id": "6bf49d54",
   "metadata": {},
   "outputs": [
    {
     "name": "stdout",
     "output_type": "stream",
     "text": [
      "\n",
      "Question 32: Extract domain from 'https://www.example.com/path'\n",
      "The domain is: www.example.com\n"
     ]
    }
   ],
   "source": [
    "print(\"\\nQuestion 32: Extract domain from 'https://www.example.com/path'\")\n",
    "from urllib.parse import urlparse\n",
    "url = 'https://www.example.com/path'\n",
    "parsed_url = urlparse(url)\n",
    "domain = parsed_url.netloc\n",
    "print(f\"The domain is: {domain}\")"
   ]
  },
  {
   "cell_type": "code",
   "execution_count": 104,
   "id": "17685af6",
   "metadata": {},
   "outputs": [
    {
     "name": "stdout",
     "output_type": "stream",
     "text": [
      "\n",
      "Question 33: Count lines in multi-line string\n",
      "Number of lines: 3\n"
     ]
    }
   ],
   "source": [
    "print(\"\\nQuestion 33: Count lines in multi-line string\")\n",
    "text = \"\"\"\n",
    "Python is a powerful language.\n",
    "It is widely used in data science,\n",
    "web development, and automation.\n",
    "\"\"\"\n",
    "lines = text.strip().split('\\n')\n",
    "line_count = len(lines)\n",
    "\n",
    "print(f\"Number of lines: {line_count}\")"
   ]
  },
  {
   "cell_type": "code",
   "execution_count": 106,
   "id": "8cf31206",
   "metadata": {},
   "outputs": [
    {
     "name": "stdout",
     "output_type": "stream",
     "text": [
      "\n",
      "Question 34: Find common characters between 'hello' and 'world'\n",
      "Common characters: {'o', 'l'}\n"
     ]
    }
   ],
   "source": [
    "print(\"\\nQuestion 34: Find common characters between 'hello' and 'world'\")\n",
    "str1 = \"hello\"\n",
    "str2 = \"world\"\n",
    "common_chars = set(str1) & set(str2)\n",
    "print(f\"Common characters: {common_chars}\")"
   ]
  },
  {
   "cell_type": "code",
   "execution_count": 2,
   "id": "70733458",
   "metadata": {},
   "outputs": [
    {
     "name": "stdout",
     "output_type": "stream",
     "text": [
      "\n",
      "Question 31: Check if string is a valid email format: 'user@example.com'\n",
      "Email: user@example.com\n",
      "Valid email format.\n"
     ]
    }
   ],
   "source": [
    "print(\"\\nQuestion 31: Check if string is a valid email format: 'user@example.com'\")\n",
    "email = \"user@example.com\"\n",
    "import re\n",
    "email_regex = r'^[a-zA-Z0-9._%+-]+@[a-zA-Z0-9.-]+\\.[a-zA-Z]{2,}$'\n",
    "print(f\"Email: {email}\")\n",
    "if re.match(email_regex, email):\n",
    "    print(\"Valid email format.\")\n",
    "else:\n",
    "    print(\"Invalid email format.\")"
   ]
  },
  {
   "cell_type": "code",
   "execution_count": 3,
   "id": "a954b4eb",
   "metadata": {},
   "outputs": [
    {
     "name": "stdout",
     "output_type": "stream",
     "text": [
      "\n",
      "Question 32: Extract domain from 'https://www.example.com/path'\n",
      "Domain extracted from URL: www.example.com\n"
     ]
    }
   ],
   "source": [
    "print(\"\\nQuestion 32: Extract domain from 'https://www.example.com/path'\")\n",
    "url = \"https://www.example.com/path\"\n",
    "domain = re.search(r'https?://([^/]+)', url)\n",
    "if domain:\n",
    "    print(f\"Domain extracted from URL: {domain.group(1)}\")\n",
    "else:\n",
    "    print(\"No domain found in the URL.\")    "
   ]
  },
  {
   "cell_type": "code",
   "execution_count": 14,
   "id": "b423ca8a",
   "metadata": {},
   "outputs": [
    {
     "name": "stdout",
     "output_type": "stream",
     "text": [
      "\n",
      "Question 33: Count lines in multi-line string\n",
      "Multi-line string:\n",
      "This is line one.\n",
      "This is line two.   \n",
      "This is line three.\n",
      "\n",
      "Number of lines: 3\n"
     ]
    }
   ],
   "source": [
    "print(\"\\nQuestion 33: Count lines in multi-line string\")\n",
    "multi_line_string =   \"\"\"\n",
    "This is line one.\n",
    "This is line two.   \n",
    "This is line three.\n",
    "\"\"\"\n",
    "count_lines = len(multi_line_string.strip().split('\\n'))\n",
    "print(f\"Multi-line string:{multi_line_string}\")\n",
    "print(f\"Number of lines: {count_lines}\")"
   ]
  },
  {
   "cell_type": "code",
   "execution_count": 15,
   "id": "c1af5864",
   "metadata": {},
   "outputs": [
    {
     "name": "stdout",
     "output_type": "stream",
     "text": [
      "\n",
      "Question 34: Find common characters between 'hello' and 'world'\n",
      "the common characters between 'hello' and 'world' are {'o', 'l'}\n"
     ]
    }
   ],
   "source": [
    "print(\"\\nQuestion 34: Find common characters between 'hello' and 'world'\")\n",
    "str1 = \"hello\"\n",
    "str2 = \"world\"\n",
    "common_characters = set(str1) & set(str2)\n",
    "print(f\"the common characters between 'hello' and 'world' are {common_characters}\")"
   ]
  },
  {
   "cell_type": "code",
   "execution_count": 16,
   "id": "898d7cf1",
   "metadata": {},
   "outputs": [
    {
     "name": "stdout",
     "output_type": "stream",
     "text": [
      "\n",
      "Question 35: Check if string is a valid phone number: '+1-555-123-4567'\n",
      "Phone number: +1-555-123-4567\n",
      "Valid phone number format.\n"
     ]
    }
   ],
   "source": [
    "print(\"\\nQuestion 35: Check if string is a valid phone number: '+1-555-123-4567'\")\n",
    "phone_number = \"+1-555-123-4567\"\n",
    "phone_regex = r'^\\+\\d{1,3}-\\d{3}-\\d{3}-\\d{4}$'\n",
    "print(f\"Phone number: {phone_number}\")      \n",
    "if re.match(phone_regex, phone_number):\n",
    "    print(\"Valid phone number format.\") \n",
    "else:\n",
    "    print(\"Invalid phone number format.\")"
   ]
  },
  {
   "cell_type": "code",
   "execution_count": 17,
   "id": "55a19602",
   "metadata": {},
   "outputs": [
    {
     "name": "stdout",
     "output_type": "stream",
     "text": [
      "\n",
      "Question 36: Extract numbers from 'abc123def456ghi789'\n",
      "Extracted numbers from 'abc123def456ghi789': ['123', '456', '789']\n"
     ]
    }
   ],
   "source": [
    "print(\"\\nQuestion 36: Extract numbers from 'abc123def456ghi789'\")\n",
    "text = \"abc123def456ghi789\"\n",
    "numbers = re.findall(r'\\d+', text)  \n",
    "print(f\"Extracted numbers from '{text}': {numbers}\")"
   ]
  },
  {
   "cell_type": "code",
   "execution_count": 18,
   "id": "9687e069",
   "metadata": {},
   "outputs": [
    {
     "name": "stdout",
     "output_type": "stream",
     "text": [
      "\n",
      "Question 37: Convert 'snake_case' to 'camelCase'\n",
      "Converted 'snake_case' to camelCase: snakeCase\n"
     ]
    }
   ],
   "source": [
    "print(\"\\nQuestion 37: Convert 'snake_case' to 'camelCase'\")\n",
    "str1 = \"snake_case\"\n",
    "camel_case = ''.join(word.capitalize() if i > 0 else word for i, word in enumerate(str1.split('_')))\n",
    "print(f\"Converted '{str1}' to camelCase: {camel_case}\")"
   ]
  },
  {
   "cell_type": "code",
   "execution_count": 20,
   "id": "ff3dda6a",
   "metadata": {},
   "outputs": [
    {
     "name": "stdout",
     "output_type": "stream",
     "text": [
      "\n",
      "Question 38: Check if string is a valid palindrome ignoring case: 'A man a plan a canal Panama'\n",
      "'A man a plan a canal Panama' is a palindrome.\n"
     ]
    }
   ],
   "source": [
    "print(\"\\nQuestion 38: Check if string is a valid palindrome ignoring case: 'A man a plan a canal Panama'\")\n",
    "sentence = \"A man a plan a canal Panama\"\n",
    "def is_palindrome(s):\n",
    "    s = ''.join(filter(str.isalnum, s)).lower()\n",
    "    return s == s[::-1]\n",
    "if is_palindrome(sentence):\n",
    "    print(f\"'{sentence}' is a palindrome.\")\n",
    "else:\n",
    "    print(f\"'{sentence}' is not a palindrome.\")"
   ]
  },
  {
   "cell_type": "code",
   "execution_count": 1,
   "id": "073f7584",
   "metadata": {},
   "outputs": [
    {
     "name": "stdout",
     "output_type": "stream",
     "text": [
      "\n",
      "Question 39: Find the most common word in 'the quick brown fox jumps over the lazy dog'\n",
      "Most common word: the\n",
      "Frequency: 2\n"
     ]
    }
   ],
   "source": [
    "print(\"\\nQuestion 39: Find the most common word in 'the quick brown fox jumps over the lazy dog'\")\n",
    "from collections import Counter\n",
    "sentence = \"the quick brown fox jumps over the lazy dog\"\n",
    "words = sentence.split()  \n",
    "word_counts = Counter(words) \n",
    "most_common_word = word_counts.most_common(1)\n",
    "print(f\"Most common word: {most_common_word[0][0]}\")\n",
    "print(f\"Frequency: {most_common_word[0][1]}\")\n"
   ]
  },
  {
   "cell_type": "code",
   "execution_count": 2,
   "id": "932ee091",
   "metadata": {},
   "outputs": [
    {
     "name": "stdout",
     "output_type": "stream",
     "text": [
      "\n",
      "Question 40: Generate acronym from 'National Aeronautics and Space Administration'\n",
      "Acronym: NAASA\n"
     ]
    }
   ],
   "source": [
    "print(\"\\nQuestion 40: Generate acronym from 'National Aeronautics and Space Administration'\")\n",
    "text = \"National Aeronautics and Space Administration\"\n",
    "acronym = \"\".join(word[0].upper() for word in text.split())\n",
    "print(f\"Acronym: {acronym}\")"
   ]
  },
  {
   "cell_type": "code",
   "execution_count": 4,
   "id": "f942fc68",
   "metadata": {},
   "outputs": [
    {
     "name": "stdout",
     "output_type": "stream",
     "text": [
      "\n",
      "Question 40: Generate acronym from 'National Aeronautics and Space Administration' (ignoring small words)\n",
      "Acronym: NASA\n"
     ]
    }
   ],
   "source": [
    "print(\"\\nQuestion 40: Generate acronym from 'National Aeronautics and Space Administration' (ignoring small words)\")\n",
    "phrase = \"National Aeronautics and Space Administration\"\n",
    "ignore_words = {\"and\", \"of\", \"the\"}\n",
    "acronym = \"\".join(word[0].upper() for word in phrase.split() if word.lower() not in ignore_words)\n",
    "print(f\"Acronym: {acronym}\")\n"
   ]
  },
  {
   "cell_type": "code",
   "execution_count": 5,
   "id": "211407e2",
   "metadata": {},
   "outputs": [
    {
     "name": "stdout",
     "output_type": "stream",
     "text": [
      "\n",
      "Question 41: Check if string contains balanced parentheses: '((()))'\n",
      "Balanced\n"
     ]
    }
   ],
   "source": [
    "print(\"\\nQuestion 41: Check if string contains balanced parentheses: '((()))'\")\n",
    "s = \"((()))\"\n",
    "stack = []\n",
    "for char in s:\n",
    "    if char == \"(\":\n",
    "        stack.append(char)\n",
    "    elif char == \")\":\n",
    "        if not stack:\n",
    "            balanced = False\n",
    "            break\n",
    "        stack.pop()\n",
    "else:\n",
    "    balanced = not stack\n",
    "print(\"Balanced\" if balanced else \"Not Balanced\")\n"
   ]
  },
  {
   "cell_type": "code",
   "execution_count": 6,
   "id": "29f6be61",
   "metadata": {},
   "outputs": [
    {
     "name": "stdout",
     "output_type": "stream",
     "text": [
      "\n",
      "Question 41: Check if string contains balanced parentheses: '((()))'\n",
      "Balanced\n"
     ]
    }
   ],
   "source": [
    "print(\"\\nQuestion 41: Check if string contains balanced parentheses: '((()))'\")\n",
    "s = \"((()))\"\n",
    "count = 0\n",
    "for char in s:\n",
    "    if char == \"(\":\n",
    "        count += 1\n",
    "    elif char == \")\":\n",
    "        count -= 1\n",
    "    if count < 0:\n",
    "        break\n",
    "balanced = (count == 0)\n",
    "print(\"Balanced\" if balanced else \"Not Balanced\")\n"
   ]
  },
  {
   "cell_type": "code",
   "execution_count": 13,
   "id": "c0d9c226",
   "metadata": {},
   "outputs": [
    {
     "name": "stderr",
     "output_type": "stream",
     "text": [
      "ERROR: Could not find a version that satisfies the requirement Morsecode (from versions: none)\n",
      "ERROR: No matching distribution found for Morsecode\n"
     ]
    }
   ],
   "source": [
    "!pip install Morsecode"
   ]
  },
  {
   "cell_type": "code",
   "execution_count": 14,
   "id": "30f49467",
   "metadata": {},
   "outputs": [
    {
     "ename": "ModuleNotFoundError",
     "evalue": "No module named 'morsecode'",
     "output_type": "error",
     "traceback": [
      "\u001b[1;31m---------------------------------------------------------------------------\u001b[0m",
      "\u001b[1;31mModuleNotFoundError\u001b[0m                       Traceback (most recent call last)",
      "\u001b[1;32m~\\AppData\\Local\\Temp\\ipykernel_19696\\1741775081.py\u001b[0m in \u001b[0;36m<module>\u001b[1;34m\u001b[0m\n\u001b[1;32m----> 1\u001b[1;33m \u001b[1;32mimport\u001b[0m \u001b[0mmorsecode\u001b[0m\u001b[1;33m\u001b[0m\u001b[1;33m\u001b[0m\u001b[0m\n\u001b[0m\u001b[0;32m      2\u001b[0m \u001b[1;33m\u001b[0m\u001b[0m\n\u001b[0;32m      3\u001b[0m \u001b[0mprint\u001b[0m\u001b[1;33m(\u001b[0m\u001b[1;34m\"\\nQuestion 42: Convert 'hello world' to Morse code\"\u001b[0m\u001b[1;33m)\u001b[0m\u001b[1;33m\u001b[0m\u001b[1;33m\u001b[0m\u001b[0m\n\u001b[0;32m      4\u001b[0m \u001b[1;33m\u001b[0m\u001b[0m\n\u001b[0;32m      5\u001b[0m \u001b[0mtext\u001b[0m \u001b[1;33m=\u001b[0m \u001b[1;34m\"hello world\"\u001b[0m\u001b[1;33m\u001b[0m\u001b[1;33m\u001b[0m\u001b[0m\n",
      "\u001b[1;31mModuleNotFoundError\u001b[0m: No module named 'morsecode'"
     ]
    }
   ],
   "source": [
    "import morsecode\n",
    "\n",
    "print(\"\\nQuestion 42: Convert 'hello world' to Morse code\")\n",
    "\n",
    "text = \"hello world\"\n",
    "morse_code = morsecode.encode(text)\n",
    "\n",
    "print(morse_code)\n"
   ]
  },
  {
   "cell_type": "code",
   "execution_count": 15,
   "id": "398f5bc1",
   "metadata": {},
   "outputs": [
    {
     "name": "stdout",
     "output_type": "stream",
     "text": [
      "\n",
      "Question 43: Find the longest common substring between 'programming' and 'grammar'\n",
      "Longest common substring: gramm\n"
     ]
    }
   ],
   "source": [
    "print(\"\\nQuestion 43: Find the longest common substring between 'programming' and 'grammar'\")\n",
    "\n",
    "def longest_common_substring(s1, s2):\n",
    "    max_len = 0\n",
    "    ending_index = 0\n",
    "    dp = [[0] * (len(s2) + 1) for _ in range(len(s1) + 1)]\n",
    "\n",
    "    for i in range(1, len(s1) + 1):\n",
    "        for j in range(1, len(s2) + 1):\n",
    "            if s1[i - 1] == s2[j - 1]:\n",
    "                dp[i][j] = dp[i - 1][j - 1] + 1\n",
    "                if dp[i][j] > max_len:\n",
    "                    max_len = dp[i][j]\n",
    "                    ending_index = i\n",
    "            else:\n",
    "                dp[i][j] = 0\n",
    "    \n",
    "    return s1[ending_index - max_len: ending_index]\n",
    "\n",
    "result = longest_common_substring(\"programming\", \"grammar\")\n",
    "print(\"Longest common substring:\", result)"
   ]
  },
  {
   "cell_type": "code",
   "execution_count": 17,
   "id": "385ddd7d",
   "metadata": {},
   "outputs": [
    {
     "name": "stdout",
     "output_type": "stream",
     "text": [
      "\n",
      "Question 44: Check if string is a valid URL: 'https://www.google.com'\n",
      "Is valid URL?: True\n"
     ]
    }
   ],
   "source": [
    "print(\"\\nQuestion 44: Check if string is a valid URL: 'https://www.google.com'\")\n",
    "from urllib.parse import urlparse\n",
    "def is_valid_url(url):\n",
    "    parsed = urlparse(url)\n",
    "    return all([parsed.scheme, parsed.netloc])  # Scheme = 'https', Netloc = 'www.google.com'\n",
    "url = \"https://www.google.com\"\n",
    "print(\"Is valid URL?:\", is_valid_url(url))\n"
   ]
  },
  {
   "cell_type": "code",
   "execution_count": 19,
   "id": "3a0c4529",
   "metadata": {},
   "outputs": [
    {
     "name": "stdout",
     "output_type": "stream",
     "text": [
      "\n",
      "Question 45: Extract all words with length > 5 from 'Python programming is amazing and powerful'\n",
      "Words with length > 5: ['Python', 'programming', 'amazing', 'powerful']\n"
     ]
    }
   ],
   "source": [
    "print(\"\\nQuestion 45: Extract all words with length > 5 from 'Python programming is amazing and powerful'\")\n",
    "text = \"Python programming is amazing and powerful\"\n",
    "result = [word for word in text.split() if len(word) > 5]\n",
    "print(\"Words with length > 5:\", result)"
   ]
  },
  {
   "cell_type": "code",
   "execution_count": 20,
   "id": "d3e36ea2",
   "metadata": {},
   "outputs": [
    {
     "name": "stdout",
     "output_type": "stream",
     "text": [
      "\n",
      "Question 46: Convert 'hello world' to Pig Latin\n",
      "Pig Latin: ellohay orldway\n"
     ]
    }
   ],
   "source": [
    "print(\"\\nQuestion 46: Convert 'hello world' to Pig Latin\")\n",
    "text = \"hello world\"\n",
    "pig_latin = \" \".join([word[1:] + word[0] + \"ay\" for word in text.split()])\n",
    "print(\"Pig Latin:\", pig_latin)\n"
   ]
  },
  {
   "cell_type": "code",
   "execution_count": 21,
   "id": "17c92ae3",
   "metadata": {},
   "outputs": [
    {
     "name": "stdout",
     "output_type": "stream",
     "text": [
      "\n",
      "Question 47: Check if string is a valid IPv4 address: '192.168.1.1'\n",
      "Valid IPv4: True\n"
     ]
    }
   ],
   "source": [
    "print(\"\\nQuestion 47: Check if string is a valid IPv4 address: '192.168.1.1'\")\n",
    "ip = \"192.168.1.1\"\n",
    "def is_valid_ipv4(address):\n",
    "    parts = address.split(\".\")\n",
    "    if len(parts) != 4:\n",
    "        return False\n",
    "    for part in parts:\n",
    "        if not part.isdigit() or not 0 <= int(part) <= 255:\n",
    "            return False\n",
    "    return True\n",
    "print(\"Valid IPv4:\", is_valid_ipv4(ip))\n"
   ]
  },
  {
   "cell_type": "code",
   "execution_count": 22,
   "id": "d9d20743",
   "metadata": {},
   "outputs": [
    {
     "name": "stdout",
     "output_type": "stream",
     "text": [
      "\n",
      "Question 48: Find all substrings of 'abc'\n",
      "['a', 'ab', 'abc', 'b', 'bc', 'c']\n"
     ]
    }
   ],
   "source": [
    "print(\"\\nQuestion 48: Find all substrings of 'abc'\")\n",
    "text = \"abc\"\n",
    "substrings = []\n",
    "for i in range(len(text)):\n",
    "    for j in range(i + 1, len(text) + 1):\n",
    "        substrings.append(text[i:j])\n",
    "print(substrings)\n"
   ]
  },
  {
   "cell_type": "code",
   "execution_count": 23,
   "id": "b1646eac",
   "metadata": {},
   "outputs": [
    {
     "name": "stdout",
     "output_type": "stream",
     "text": [
      "\n",
      "Question 49: Convert 'hello world' to ROT13 encoding\n",
      "uryyb jbeyq\n"
     ]
    }
   ],
   "source": [
    "print(\"\\nQuestion 49: Convert 'hello world' to ROT13 encoding\")\n",
    "import codecs\n",
    "text = \"hello world\"\n",
    "rot13_text = codecs.encode(text, 'rot_13')\n",
    "print(rot13_text)"
   ]
  },
  {
   "cell_type": "code",
   "execution_count": 24,
   "id": "a0fc9f09",
   "metadata": {},
   "outputs": [
    {
     "name": "stdout",
     "output_type": "stream",
     "text": [
      "\n",
      "Question 50: Check if string is a valid credit card number: '4532015112830366'\n",
      "4532015112830366 is a valid credit card number\n"
     ]
    }
   ],
   "source": [
    "print(\"\\nQuestion 50: Check if string is a valid credit card number: '4532015112830366'\")\n",
    "\n",
    "def is_valid_credit_card(number):\n",
    "    digits = [int(d) for d in str(number)][::-1]\n",
    "    total = 0\n",
    "    for i, d in enumerate(digits):\n",
    "        if i % 2 == 1:  \n",
    "            d *= 2\n",
    "            if d > 9:  \n",
    "                d -= 9\n",
    "        total += d\n",
    "    return total % 10 == 0  \n",
    "card_number = \"4532015112830366\"\n",
    "if is_valid_credit_card(card_number):\n",
    "    print(f\"{card_number} is a valid credit card number\")\n",
    "else:\n",
    "    print(f\"{card_number} is NOT a valid credit card number\")\n"
   ]
  },
  {
   "cell_type": "code",
   "execution_count": null,
   "id": "c2b75698",
   "metadata": {},
   "outputs": [],
   "source": []
  }
 ],
 "metadata": {
  "kernelspec": {
   "display_name": "Python 3 (ipykernel)",
   "language": "python",
   "name": "python3"
  },
  "language_info": {
   "codemirror_mode": {
    "name": "ipython",
    "version": 3
   },
   "file_extension": ".py",
   "mimetype": "text/x-python",
   "name": "python",
   "nbconvert_exporter": "python",
   "pygments_lexer": "ipython3",
   "version": "3.9.13"
  }
 },
 "nbformat": 4,
 "nbformat_minor": 5
}
