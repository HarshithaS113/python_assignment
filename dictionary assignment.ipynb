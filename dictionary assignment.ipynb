{
 "cells": [
  {
   "cell_type": "code",
   "execution_count": 1,
   "id": "fa7b73a5-0350-49a4-9b55-1efe6500c7a5",
   "metadata": {},
   "outputs": [
    {
     "name": "stdout",
     "output_type": "stream",
     "text": [
      "SOLVED EXAMPLE:\n",
      "Find the key with maximum value in a dictionary\n",
      "Dictionary: {'Alice': 85, 'Bob': 92, 'Charlie': 78, 'Diana': 95, 'Eve': 88}\n",
      "Key with maximum value: Diana\n",
      "Maximum value: 95\n",
      "--------------------------------------------------\n"
     ]
    }
   ],
   "source": [
    "print(\"SOLVED EXAMPLE:\")\n",
    "print(\"Find the key with maximum value in a dictionary\")\n",
    "scores = {'Alice': 85, 'Bob': 92, 'Charlie': 78, 'Diana': 95, 'Eve': 88}\n",
    "max_key = max(scores, key=scores.get)\n",
    "max_value = scores[max_key]\n",
    "print(f\"Dictionary: {scores}\")\n",
    "print(f\"Key with maximum value: {max_key}\")\n",
    "print(f\"Maximum value: {max_value}\")\n",
    "print(\"-\" * 50)"
   ]
  },
  {
   "cell_type": "code",
   "execution_count": 5,
   "id": "ab047bb6-1503-4596-a729-0ef0b04ff882",
   "metadata": {},
   "outputs": [
    {
     "name": "stdout",
     "output_type": "stream",
     "text": [
      "Question 1: Create a dictionary of student names and their ages\n",
      "dictionary :{'bob': 13, 'cob': 14, 'ana': 14}\n"
     ]
    }
   ],
   "source": [
    "print(\"Question 1: Create a dictionary of student names and their ages\")\n",
    "student = {'bob' : 13,'cob' : 14, 'ana' : 14}\n",
    "print(f\"dictionary :{student}\")"
   ]
  },
  {
   "cell_type": "code",
   "execution_count": 6,
   "id": "c60373ed-ae74-4970-a556-5d9c68e20c6a",
   "metadata": {},
   "outputs": [
    {
     "name": "stdout",
     "output_type": "stream",
     "text": [
      "\n",
      "Question 2: Add a new key-value pair to dictionary {'a': 1, 'b': 2, 'c': 3}\n",
      "the updated dictionary : {'a': 1, 'b': 2, 'c': 3, 'd': 4}\n"
     ]
    }
   ],
   "source": [
    "print(\"\\nQuestion 2: Add a new key-value pair to dictionary {'a': 1, 'b': 2, 'c': 3}\")\n",
    "d = {'a': 1, 'b': 2, 'c': 3}\n",
    "d['d'] = 4\n",
    "print(f\"the updated dictionary : {d}\")"
   ]
  },
  {
   "cell_type": "code",
   "execution_count": 7,
   "id": "f171c8ae-daa7-4da4-a43d-999f0fc62d00",
   "metadata": {},
   "outputs": [
    {
     "name": "stdout",
     "output_type": "stream",
     "text": [
      "\n",
      "Question 3: Get all keys from dictionary {'name': 'John', 'age': 25, 'city': 'New York'}\n",
      "dict_keys(['name', 'age', 'city'])\n"
     ]
    }
   ],
   "source": [
    "print(\"\\nQuestion 3: Get all keys from dictionary {'name': 'John', 'age': 25, 'city': 'New York'}\")\n",
    "d =  {'name': 'John', 'age': 25, 'city': 'New York'}\n",
    "keys = d.keys()\n",
    "print(keys)"
   ]
  },
  {
   "cell_type": "code",
   "execution_count": 8,
   "id": "3881e5f4-b913-4d47-a718-7abd31eef914",
   "metadata": {},
   "outputs": [
    {
     "name": "stdout",
     "output_type": "stream",
     "text": [
      "\n",
      "Question 4: Get all values from dictionary {'python': 3, 'java': 2, 'c++': 1}\n",
      "dict_keys(['python', 'java', 'c++'])\n"
     ]
    }
   ],
   "source": [
    "print(\"\\nQuestion 4: Get all values from dictionary {'python': 3, 'java': 2, 'c++': 1}\")\n",
    "d = {'python': 3, 'java': 2, 'c++': 1}\n",
    "keys  = d.keys()\n",
    "print(keys)"
   ]
  },
  {
   "cell_type": "code",
   "execution_count": 9,
   "id": "5271f18f-1ce2-4119-a351-6f24b0c3e6e1",
   "metadata": {},
   "outputs": [
    {
     "name": "stdout",
     "output_type": "stream",
     "text": [
      "\n",
      "Question 5: Check if key 'age' exists in {'name': 'Alice', 'age': 30, 'city': 'London'}\n",
      "key exist\n"
     ]
    }
   ],
   "source": [
    "print(\"\\nQuestion 5: Check if key 'age' exists in {'name': 'Alice', 'age': 30, 'city': 'London'}\")\n",
    "d = {'name': 'Alice', 'age': 30, 'city': 'London'}\n",
    "if 'age'in d:\n",
    "    print(\"key exist\")\n",
    "else:\n",
    "    print(\"key does not exist\")"
   ]
  },
  {
   "cell_type": "code",
   "execution_count": 12,
   "id": "6decb99b-4864-4afb-8f8e-1413bb5bcd31",
   "metadata": {},
   "outputs": [
    {
     "name": "stdout",
     "output_type": "stream",
     "text": [
      "\n",
      "Question 5: Check if key 'age' exists in {'name': 'Alice', 'age': 30, 'city': 'London'}\n",
      "Yes\n"
     ]
    }
   ],
   "source": [
    "print(\"\\nQuestion 5: Check if key 'age' exists in {'name': 'Alice', 'age': 30, 'city': 'London'}\")\n",
    "d = {'name': 'Alice', 'age': 30, 'city': 'London'}\n",
    "print(\"Yes\" if 'age' in d else \"No\")"
   ]
  },
  {
   "cell_type": "code",
   "execution_count": 14,
   "id": "e2a25da4-cc2a-4dff-ba26-d8f65b85108b",
   "metadata": {},
   "outputs": [
    {
     "name": "stdout",
     "output_type": "stream",
     "text": [
      "\n",
      "Question 6: Remove key 'temp' from {'a': 1, 'b': 2, 'temp': 3, 'c': 4}\n",
      "{'a': 1, 'b': 2, 'c': 4}\n"
     ]
    }
   ],
   "source": [
    "print(\"\\nQuestion 6: Remove key 'temp' from {'a': 1, 'b': 2, 'temp': 3, 'c': 4}\")\n",
    "d = {'a': 1, 'b': 2, 'temp': 3, 'c': 4}\n",
    "d.pop('temp')\n",
    "print(d)"
   ]
  },
  {
   "cell_type": "code",
   "execution_count": 19,
   "id": "84a1efc7-0165-4524-8348-7bb71e989275",
   "metadata": {},
   "outputs": [
    {
     "name": "stdout",
     "output_type": "stream",
     "text": [
      "\n",
      "Question 7: Find the sum of all values in {'math': 85, 'science': 92, 'english': 78}\n",
      "255\n"
     ]
    }
   ],
   "source": [
    "print(\"\\nQuestion 7: Find the sum of all values in {'math': 85, 'science': 92, 'english': 78}\")\n",
    "d = {'math': 85, 'science': 92, 'english': 78}\n",
    "total = sum(d.values())\n",
    "print(total)"
   ]
  },
  {
   "cell_type": "code",
   "execution_count": 20,
   "id": "5bac158c-4447-4974-ad39-1540739030b2",
   "metadata": {},
   "outputs": [
    {
     "name": "stdout",
     "output_type": "stream",
     "text": [
      "\n",
      "Question 8: Create a dictionary with squares of numbers 1 to 5\n",
      "{1: 1, 2: 4, 3: 9, 4: 16, 5: 25}\n"
     ]
    }
   ],
   "source": [
    "print(\"\\nQuestion 8: Create a dictionary with squares of numbers 1 to 5\")\n",
    "squares = {}\n",
    "for i in range(1,6):\n",
    "    squares[i] = i**2\n",
    "print(squares)"
   ]
  },
  {
   "cell_type": "code",
   "execution_count": 23,
   "id": "815106a2-bef3-4774-be67-25ca10453a01",
   "metadata": {},
   "outputs": [
    {
     "name": "stdout",
     "output_type": "stream",
     "text": [
      "\n",
      "Question 9: Count frequency of each character in string 'hello'\n",
      "Character frequency: {'h': 1, 'e': 1, 'l': 2, 'o': 1}\n"
     ]
    }
   ],
   "source": [
    "print(\"\\nQuestion 9: Count frequency of each character in string 'hello'\")\n",
    "text = \"hello\"\n",
    "freq = {}\n",
    "for ch in text:\n",
    "    freq[ch] = freq.get(ch, 0) + 1\n",
    "print(\"Character frequency:\", freq)"
   ]
  },
  {
   "cell_type": "code",
   "execution_count": 25,
   "id": "14f08ceb-495f-456f-b84c-7aeb55ebbe34",
   "metadata": {},
   "outputs": [
    {
     "name": "stdout",
     "output_type": "stream",
     "text": [
      "\n",
      "Question 9: Count frequency of each character in string 'hello'\n",
      "Counter({'l': 2, 'h': 1, 'e': 1, 'o': 1})\n"
     ]
    }
   ],
   "source": [
    "print(\"\\nQuestion 9: Count frequency of each character in string 'hello'\")\n",
    "from collections import Counter\n",
    "print(Counter(\"hello\"))"
   ]
  },
  {
   "cell_type": "code",
   "execution_count": 26,
   "id": "d5e45fd0-59b8-4073-8a9e-1cdbab0f3973",
   "metadata": {},
   "outputs": [
    {
     "name": "stdout",
     "output_type": "stream",
     "text": [
      "\n",
      "Question 10: Merge two dictionaries {'a': 1, 'b': 2} and {'c': 3, 'd': 4}\n",
      "Merged dictionary: {'a': 1, 'b': 2, 'c': 3, 'd': 4}\n"
     ]
    }
   ],
   "source": [
    "print(\"\\nQuestion 10: Merge two dictionaries {'a': 1, 'b': 2} and {'c': 3, 'd': 4}\")\n",
    "merged = {'a': 1, 'b': 2} | {'c': 3, 'd': 4}\n",
    "print(\"Merged dictionary:\", merged)"
   ]
  },
  {
   "cell_type": "code",
   "execution_count": 27,
   "id": "ff64fcce-5ee9-4fa8-8ed8-8aa5e980ef2f",
   "metadata": {},
   "outputs": [
    {
     "name": "stdout",
     "output_type": "stream",
     "text": [
      "\n",
      "Question 10: Merge two dictionaries {'a': 1, 'b': 2} and {'c': 3, 'd': 4}\n",
      "Merged dictionary: {'a': 1, 'b': 2, 'c': 3, 'd': 4}\n"
     ]
    }
   ],
   "source": [
    "print(\"\\nQuestion 10: Merge two dictionaries {'a': 1, 'b': 2} and {'c': 3, 'd': 4}\")\n",
    "dict1 = {'a': 1, 'b': 2}\n",
    "dict2 = {'c': 3, 'd': 4}\n",
    "dict1.update(dict2)\n",
    "print(\"Merged dictionary:\", dict1)"
   ]
  },
  {
   "cell_type": "code",
   "execution_count": 28,
   "id": "cae18c43-70d5-4eda-99bb-6e12fd39ceb0",
   "metadata": {},
   "outputs": [
    {
     "name": "stdout",
     "output_type": "stream",
     "text": [
      "\n",
      "Question 11: Create a nested dictionary: {'person': {'name': 'Alice', 'age': 25}}\n",
      "Nested dictionary: {'person': {'name': 'Alice', 'age': 25}}\n"
     ]
    }
   ],
   "source": [
    "print(\"\\nQuestion 11: Create a nested dictionary: {'person': {'name': 'Alice', 'age': 25}}\")\n",
    "nested_dict = {\n",
    "    'person': {\n",
    "        'name': 'Alice',\n",
    "        'age': 25\n",
    "    }\n",
    "}\n",
    "print(\"Nested dictionary:\", nested_dict)"
   ]
  },
  {
   "cell_type": "code",
   "execution_count": 29,
   "id": "bc0ae2fe-a8d9-4632-b2e8-549d68afbe8e",
   "metadata": {},
   "outputs": [
    {
     "name": "stdout",
     "output_type": "stream",
     "text": [
      "\n",
      "Question 12: Access nested value 'name' from {'person': {'name': 'Alice', 'age': 25}}\n",
      "Name: Alice\n"
     ]
    }
   ],
   "source": [
    "print(\"\\nQuestion 12: Access nested value 'name' from {'person': {'name': 'Alice', 'age': 25}}\")\n",
    "nested_dict = {'person': {'name': 'Alice', 'age': 25}}\n",
    "name_value = nested_dict['person']['name']\n",
    "print(\"Name:\", name_value)"
   ]
  },
  {
   "cell_type": "code",
   "execution_count": 30,
   "id": "7b7ed657-576c-48f7-92d5-f2b5c118a17d",
   "metadata": {},
   "outputs": [
    {
     "name": "stdout",
     "output_type": "stream",
     "text": [
      "\n",
      "Question 13: Create a dictionary with list values: {'fruits': ['apple', 'banana'], 'colors': ['red', 'blue']}\n",
      "{'fruits': ['apple', 'banana'], 'colors': ['red', 'blue']}\n"
     ]
    }
   ],
   "source": [
    "print(\"\\nQuestion 13: Create a dictionary with list values: {'fruits': ['apple', 'banana'], 'colors': ['red', 'blue']}\")\n",
    "d =   {'fruits': ['apple', 'banana'], 'colors': ['red', 'blue']}\n",
    "print(d)"
   ]
  },
  {
   "cell_type": "code",
   "execution_count": 33,
   "id": "a9f7d27f-2255-4671-8cf0-a94517964a99",
   "metadata": {},
   "outputs": [
    {
     "name": "stdout",
     "output_type": "stream",
     "text": [
      "\n",
      "Question 14: Add 'orange' to the 'fruits' list in nested dictionary\n",
      "{'fruits': ['apple', 'banana', 'orange'], 'colors': ['red', 'blue']}\n"
     ]
    }
   ],
   "source": [
    "print(\"\\nQuestion 14: Add 'orange' to the 'fruits' list in nested dictionary\")\n",
    "d =   {'fruits': ['apple', 'banana'], 'colors': ['red', 'blue']}\n",
    "d['fruits'].append('orange')\n",
    "print(d)"
   ]
  },
  {
   "cell_type": "code",
   "execution_count": 34,
   "id": "029c2960-f9aa-4988-8726-ab967a055ca9",
   "metadata": {},
   "outputs": [
    {
     "name": "stdout",
     "output_type": "stream",
     "text": [
      "\n",
      "Question 15: Create a dictionary with tuple values: {'coordinates': (10, 20), 'rgb': (255, 0, 0)}\n",
      "{'coordinates': (10, 20), 'rgb': (255, 0, 0)}\n"
     ]
    }
   ],
   "source": [
    "print(\"\\nQuestion 15: Create a dictionary with tuple values: {'coordinates': (10, 20), 'rgb': (255, 0, 0)}\")\n",
    "d = {\n",
    "    'coordinates': (10, 20), \n",
    "     'rgb': (255, 0, 0)\n",
    "}\n",
    "print(d)"
   ]
  },
  {
   "cell_type": "code",
   "execution_count": 35,
   "id": "e6f3a18f-46c8-4384-b558-aabe6daf5bbf",
   "metadata": {},
   "outputs": [
    {
     "name": "stdout",
     "output_type": "stream",
     "text": [
      "\n",
      "Question 16: Extract first coordinate from nested tuple\n",
      "First coordinate: (10, 20)\n"
     ]
    }
   ],
   "source": [
    "print(\"\\nQuestion 16: Extract first coordinate from nested tuple\")\n",
    "coordinates = ((10, 20), (30, 40))\n",
    "first_coord = coordinates[0]\n",
    "print(\"First coordinate:\", first_coord)"
   ]
  },
  {
   "cell_type": "code",
   "execution_count": 36,
   "id": "73c1e532-d4a7-4b16-a18f-b0cb09a3b148",
   "metadata": {},
   "outputs": [
    {
     "name": "stdout",
     "output_type": "stream",
     "text": [
      "\n",
      "Question 17: Create a dictionary with set values: {'vowels': {'a', 'e', 'i'}, 'consonants': {'b', 'c', 'd'}}\n",
      "Dictionary with set values: {'vowels': {'i', 'a', 'e'}, 'consonants': {'c', 'b', 'd'}}\n"
     ]
    }
   ],
   "source": [
    "print(\"\\nQuestion 17: Create a dictionary with set values: {'vowels': {'a', 'e', 'i'}, 'consonants': {'b', 'c', 'd'}}\")\n",
    "my_dict = {\n",
    "    'vowels': {'a', 'e', 'i'},\n",
    "    'consonants': {'b', 'c', 'd'}\n",
    "}\n",
    "print(\"Dictionary with set values:\", my_dict)"
   ]
  },
  {
   "cell_type": "code",
   "execution_count": 37,
   "id": "c3bb2d71-ae46-4cd6-ac00-5ad67adbc5f4",
   "metadata": {},
   "outputs": [
    {
     "name": "stdout",
     "output_type": "stream",
     "text": [
      "\n",
      "Question 18: Add 'o' to vowels set in nested dictionary\n",
      "Updated dictionary: {'vowels': {'o', 'i', 'a', 'e'}, 'consonants': {'c', 'b', 'd'}}\n"
     ]
    }
   ],
   "source": [
    "print(\"\\nQuestion 18: Add 'o' to vowels set in nested dictionary\")\n",
    "my_dict = {\n",
    "    'vowels': {'a', 'e', 'i'},\n",
    "    'consonants': {'b', 'c', 'd'}\n",
    "}\n",
    "my_dict['vowels'].add('o')\n",
    "print(\"Updated dictionary:\", my_dict)"
   ]
  },
  {
   "cell_type": "code",
   "execution_count": 52,
   "id": "a8ee7a39-c0cb-4a8a-97c4-ffc5aa4d4b03",
   "metadata": {},
   "outputs": [
    {
     "name": "stdout",
     "output_type": "stream",
     "text": [
      "\n",
      "Question 19: Create a 3-level nested dictionary: {'company': {'department': {'employee': {'name': 'John', 'id': 123}}}}\n",
      "the 3-level nested dictionary is: \n",
      "{'company': {'department': {'employee': {'name': 'john', 'id': 123}}}}\n"
     ]
    }
   ],
   "source": [
    "print(\"\\nQuestion 19: Create a 3-level nested dictionary: {'company': {'department': {'employee': {'name': 'John', 'id': 123}}}}\")\n",
    "d = {'company':\n",
    "     {'department':\n",
    "      {'employee':\n",
    "       {'name': 'john', \n",
    "        'id': 123}\n",
    "      }\n",
    "     }\n",
    "    }\n",
    "print(f\"the 3-level nested dictionary is: \\n{d}\")"
   ]
  },
  {
   "cell_type": "code",
   "execution_count": 53,
   "id": "8a3daebc-95f7-4adb-86f0-eedab8f7c8dc",
   "metadata": {},
   "outputs": [
    {
     "name": "stdout",
     "output_type": "stream",
     "text": [
      "\n",
      "Question 20: Access employee name from 3-level nested dictionary\n",
      "john\n"
     ]
    }
   ],
   "source": [
    "print(\"\\nQuestion 20: Access employee name from 3-level nested dictionary\")\n",
    "d = {'company':\n",
    "     {'department':\n",
    "      {'employee':\n",
    "       {'name': 'john', \n",
    "        'id': 123}\n",
    "      }\n",
    "     }\n",
    "    }\n",
    "print(d['company']['department']['employee']['name'])\n"
   ]
  },
  {
   "cell_type": "code",
   "execution_count": 54,
   "id": "a293f506-3c2b-4b44-8ed3-434464fe7356",
   "metadata": {},
   "outputs": [
    {
     "name": "stdout",
     "output_type": "stream",
     "text": [
      "\n",
      "Question 21: Create a dictionary with mixed data types: {'int': 42, 'float': 3.14, 'str': 'hello', 'bool': True}\n",
      "{'int': 42, 'float': 3.14, 'str': 'hello', 'bool': True}\n"
     ]
    }
   ],
   "source": [
    "print(\"\\nQuestion 21: Create a dictionary with mixed data types: {'int': 42, 'float': 3.14, 'str': 'hello', 'bool': True}\")\n",
    "d = {'int': 42, 'float': 3.14, 'str': 'hello', 'bool': True}\n",
    "print(d)"
   ]
  },
  {
   "cell_type": "code",
   "execution_count": 57,
   "id": "89018686-bb92-4e88-a372-9507511bed8d",
   "metadata": {},
   "outputs": [
    {
     "name": "stdout",
     "output_type": "stream",
     "text": [
      "\n",
      "Question 22: Check data type of each value in mixed dictionary\n",
      "name: <class 'str'>\n",
      "\n",
      "age: <class 'int'>\n",
      "\n",
      "is_student: <class 'bool'>\n",
      "\n",
      "marks: <class 'list'>\n",
      "\n"
     ]
    }
   ],
   "source": [
    "print(\"\\nQuestion 22: Check data type of each value in mixed dictionary\")\n",
    "d = {'name': 'Alice', 'age': 25, 'is_student': True, 'marks': [85, 90, 92]}\n",
    "for key, value in d.items():\n",
    "    print(f\"{key}: {type(value)}\\n\")\n"
   ]
  },
  {
   "cell_type": "code",
   "execution_count": 58,
   "id": "146c6722-4842-4f2e-a35c-29050bb0c64c",
   "metadata": {},
   "outputs": [
    {
     "name": "stdout",
     "output_type": "stream",
     "text": [
      "\n",
      "Question 23: Create a dictionary with function values: {'len': len, 'str': str, 'int': int}\n",
      "Dictionary with function values: {'len': <built-in function len>, 'str': <class 'str'>, 'int': <class 'int'>}\n",
      "Length of [1,2,3]: 3\n",
      "String of 100: {'len': <built-in function len>, 'str': <class 'str'>, 'int': <class 'int'>}\n",
      "Integer of '42': 42\n"
     ]
    }
   ],
   "source": [
    "print(\"\\nQuestion 23: Create a dictionary with function values: {'len': len, 'str': str, 'int': int}\")\n",
    "func_dict = {\n",
    "    'len': len,\n",
    "    'str': str,\n",
    "    'int': int\n",
    "}\n",
    "print(\"Dictionary with function values:\", func_dict)\n",
    "print(\"Length of [1,2,3]:\", func_dict['len']([1, 2, 3]))\n",
    "print(\"String of 100:\", func_dict )\n",
    "print(\"Integer of '42':\", func_dict['int'](\"42\"))\n"
   ]
  },
  {
   "cell_type": "code",
   "execution_count": 59,
   "id": "c5bec8d1-b242-4789-8fa0-0b6fcd6ad07a",
   "metadata": {},
   "outputs": [
    {
     "name": "stdout",
     "output_type": "stream",
     "text": [
      "\n",
      "Question 24: Apply each function to '123' using dictionary\n",
      "len(123) = 3\n",
      "str(123) = 123\n",
      "int(123) = 123\n"
     ]
    }
   ],
   "source": [
    "print(\"\\nQuestion 24: Apply each function to '123' using dictionary\")\n",
    "func_dict = {\n",
    "    'len': len,\n",
    "    'str': str,\n",
    "    'int': int\n",
    "}\n",
    "value = \"123\"\n",
    "for key, func in func_dict.items():\n",
    "    print(f\"{key}({value}) =\", func(value))\n"
   ]
  },
  {
   "cell_type": "code",
   "execution_count": 64,
   "id": "8b2fe02c-40fe-4636-84e1-c889a958c5e5",
   "metadata": {},
   "outputs": [
    {
     "name": "stdout",
     "output_type": "stream",
     "text": [
      "\n",
      "Question 26: Apply each lambda function to 5\n",
      "double(5) = 10\n",
      "square(5) = 25\n"
     ]
    }
   ],
   "source": [
    "print(\"\\nQuestion 26: Apply each lambda function to 5\")\n",
    "\n",
    "func_dict = {\n",
    "    'double': lambda x: x * 2,\n",
    "    'square': lambda x: x ** 2\n",
    "}\n",
    "\n",
    "for name, func in func_dict.items():\n",
    "    print(f\"{name}(5) =\", func(5))\n"
   ]
  },
  {
   "cell_type": "code",
   "execution_count": 65,
   "id": "c3f3334d-beb8-425d-8ee4-d3643909d9a6",
   "metadata": {},
   "outputs": [
    {
     "name": "stdout",
     "output_type": "stream",
     "text": [
      "\n",
      "Question 26: Apply each lambda function to 5\n",
      "double(5) = 10\n",
      "square(5) = 25\n"
     ]
    }
   ],
   "source": [
    "print(\"\\nQuestion 26: Apply each lambda function to 5\")\n",
    "\n",
    "func_dict = {\n",
    "    'double': lambda x: x * 2,\n",
    "    'square': lambda x: x ** 2\n",
    "}\n",
    "\n",
    "for name, func in func_dict.items():\n",
    "    print(f\"{name}(5) =\", func(5))\n"
   ]
  },
  {
   "cell_type": "code",
   "execution_count": 66,
   "id": "bd08e424-3f9a-4c6d-b324-d4cce4666e76",
   "metadata": {},
   "outputs": [
    {
     "name": "stdout",
     "output_type": "stream",
     "text": [
      "\n",
      "Question 27: Create a dictionary with class values: {'list': list, 'dict': dict, 'set': set}\n",
      "Dictionary with class values: {'list': <class 'list'>, 'dict': <class 'dict'>, 'set': <class 'set'>}\n",
      "Empty list: []\n",
      "Empty dict: {}\n",
      "Empty set: set()\n"
     ]
    }
   ],
   "source": [
    "print(\"\\nQuestion 27: Create a dictionary with class values: {'list': list, 'dict': dict, 'set': set}\")\n",
    "class_dict = {\n",
    "    'list': list,\n",
    "    'dict': dict,\n",
    "    'set': set\n",
    "}\n",
    "print(\"Dictionary with class values:\", class_dict)\n",
    "print(\"Empty list:\", class_dict['list']())\n",
    "print(\"Empty dict:\", class_dict['dict']())\n",
    "print(\"Empty set:\", class_dict['set']())\n"
   ]
  },
  {
   "cell_type": "code",
   "execution_count": 67,
   "id": "9be2370a-67ab-47a1-b18b-a43f2fb19f6c",
   "metadata": {},
   "outputs": [
    {
     "name": "stdout",
     "output_type": "stream",
     "text": [
      "\n",
      "Question 28: Create instances using class dictionary\n",
      "Dict instance: {'name': 'Alice', 'age': 25}\n"
     ]
    }
   ],
   "source": [
    "print(\"\\nQuestion 28: Create instances using class dictionary\")\n",
    "class_dict = {'dict': dict,}\n",
    "my_dict = class_dict['dict'](name=\"Alice\", age=25)\n",
    "print(\"Dict instance:\", my_dict)"
   ]
  },
  {
   "cell_type": "code",
   "execution_count": 68,
   "id": "97fede3c-e592-4e6d-869a-78836200a201",
   "metadata": {},
   "outputs": [
    {
     "name": "stdout",
     "output_type": "stream",
     "text": [
      "\n",
      "Question 29: Create a dictionary with None values: {'a': None, 'b': None, 'c': None}\n",
      "Dictionary with None values: {'a': None, 'b': None, 'c': None}\n"
     ]
    }
   ],
   "source": [
    "print(\"\\nQuestion 29: Create a dictionary with None values: {'a': None, 'b': None, 'c': None}\")\n",
    "my_dict = {\n",
    "    'a': None,\n",
    "    'b': None,\n",
    "    'c': None\n",
    "}\n",
    "print(\"Dictionary with None values:\", my_dict)\n"
   ]
  },
  {
   "cell_type": "code",
   "execution_count": 69,
   "id": "3e98eaef-587a-41a8-a67c-3cd75dec034a",
   "metadata": {},
   "outputs": [
    {
     "name": "stdout",
     "output_type": "stream",
     "text": [
      "\n",
      "Question 30: Replace all None values with 0\n",
      "Updated dictionary: {'a': 0, 'b': 0, 'c': 0}\n"
     ]
    }
   ],
   "source": [
    "print(\"\\nQuestion 30: Replace all None values with 0\")\n",
    "my_dict = {'a': None, 'b': None, 'c': None}\n",
    "for key in my_dict:\n",
    "    if my_dict[key] is None:\n",
    "        my_dict[key] = 0\n",
    "print(\"Updated dictionary:\", my_dict)\n"
   ]
  },
  {
   "cell_type": "code",
   "execution_count": 70,
   "id": "3b9cacea-0f66-4d3a-ae98-40eba1c635d7",
   "metadata": {},
   "outputs": [
    {
     "name": "stdout",
     "output_type": "stream",
     "text": [
      "\n",
      "Question 31: Create a dictionary with boolean values: {'is_active': True, 'is_admin': False}\n",
      "Dictionary with boolean values: {'is_active': True, 'is_admin': False}\n"
     ]
    }
   ],
   "source": [
    "print(\"\\nQuestion 31: Create a dictionary with boolean values: {'is_active': True, 'is_admin': False}\")\n",
    "my_dict = {\n",
    "    'is_active': True,\n",
    "    'is_admin': False\n",
    "}\n",
    "print(\"Dictionary with boolean values:\", my_dict)\n"
   ]
  },
  {
   "cell_type": "code",
   "execution_count": 76,
   "id": "d588e2b2-7456-49dd-91cb-c4247d1c8c3b",
   "metadata": {},
   "outputs": [
    {
     "name": "stdout",
     "output_type": "stream",
     "text": [
      "\n",
      "Question 32: Count True values in boolean dictionary\n",
      "Number of True values: 1\n"
     ]
    }
   ],
   "source": [
    "print(\"\\nQuestion 32: Count True values in boolean dictionary\")\n",
    "\n",
    "my_dict = {'is_active': True, 'is_admin': False}\n",
    "\n",
    "true_count = sum(value for value in my_dict.values())\n",
    "\n",
    "print(\"Number of True values:\", true_count)\n"
   ]
  },
  {
   "cell_type": "code",
   "execution_count": 77,
   "id": "50dd7dfc-3058-4200-beda-29afa5c0deb0",
   "metadata": {},
   "outputs": [
    {
     "name": "stdout",
     "output_type": "stream",
     "text": [
      "\n",
      "Question 33: Create a dictionary with complex numbers: {'z1': 3+4j, 'z2': 1+2j}\n",
      "Dictionary with complex numbers: {'z1': (3+4j), 'z2': (1+2j)}\n"
     ]
    }
   ],
   "source": [
    "print(\"\\nQuestion 33: Create a dictionary with complex numbers: {'z1': 3+4j, 'z2': 1+2j}\")\n",
    "d = {\n",
    "    'z1': 3 + 4j,\n",
    "    'z2': 1 + 2j\n",
    "}\n",
    "print(\"Dictionary with complex numbers:\", d)\n"
   ]
  },
  {
   "cell_type": "code",
   "execution_count": 78,
   "id": "b974b9df-a2fe-40d9-bc8e-a6af431a9612",
   "metadata": {},
   "outputs": [
    {
     "name": "stdout",
     "output_type": "stream",
     "text": [
      "\n",
      "Question 34: Find magnitude of each complex number\n",
      "Magnitudes: {'z1': 5.0, 'z2': 2.23606797749979}\n"
     ]
    }
   ],
   "source": [
    "print(\"\\nQuestion 34: Find magnitude of each complex number\")\n",
    "\n",
    "my_dict = {'z1': 3+4j, 'z2': 1+2j}\n",
    "\n",
    "magnitudes = {key: abs(value) for key, value in my_dict.items()}\n",
    "\n",
    "print(\"Magnitudes:\", magnitudes)\n"
   ]
  },
  {
   "cell_type": "code",
   "execution_count": 81,
   "id": "e50488b6-79bb-47b7-8124-3da684ad75b0",
   "metadata": {},
   "outputs": [
    {
     "name": "stdout",
     "output_type": "stream",
     "text": [
      "\n",
      "Question 35: Create a 4-level nested dictionary\n",
      "4-level nested dictionary: {'level1': {'level2': {'level3': {'level4': 'Values'}}}}\n"
     ]
    }
   ],
   "source": [
    "print(\"\\nQuestion 35: Create a 4-level nested dictionary\")\n",
    "d = {\n",
    "    'level1': {\n",
    "        'level2': {\n",
    "            'level3': {\n",
    "                'level4': \"Values\"\n",
    "            }\n",
    "        }\n",
    "    }\n",
    "}\n",
    "\n",
    "print(\"4-level nested dictionary:\", d)\n"
   ]
  },
  {
   "cell_type": "code",
   "execution_count": 85,
   "id": "726ba9f3-e113-42d7-a266-498b77fb16b2",
   "metadata": {},
   "outputs": [
    {
     "name": "stdout",
     "output_type": "stream",
     "text": [
      "\n",
      "Question 36: Access deepest value in 4-level nested dictionary\n",
      "Deepest value: values\n"
     ]
    }
   ],
   "source": [
    "print(\"\\nQuestion 36: Access deepest value in 4-level nested dictionary\")\n",
    "d = {\n",
    "    'level1': {\n",
    "        'level2': {\n",
    "            'level3': {\n",
    "                'level4': \"values\"\n",
    "            }\n",
    "        }\n",
    "    }\n",
    "}\n",
    "deep_value = d['level1']['level2']['level3']['level4']\n",
    "print(\"Deepest value:\", deep_value)"
   ]
  },
  {
   "cell_type": "code",
   "execution_count": 86,
   "id": "b8fa821a-f26a-433c-9fc4-da8f5a759547",
   "metadata": {},
   "outputs": [
    {
     "name": "stdout",
     "output_type": "stream",
     "text": [
      "\n",
      "Question 37: Create a dictionary with range values: {'r1': range(3), 'r2': range(5)}\n",
      "Dictionary with range values: {'r1': range(0, 3), 'r2': range(0, 5)}\n"
     ]
    }
   ],
   "source": [
    "print(\"\\nQuestion 37: Create a dictionary with range values: {'r1': range(3), 'r2': range(5)}\")\n",
    "d = {\n",
    "    'r1': range(3),\n",
    "    'r2': range(5)\n",
    "}\n",
    "print(\"Dictionary with range values:\",d)\n"
   ]
  },
  {
   "cell_type": "code",
   "execution_count": 87,
   "id": "a9b4dcc2-c31d-40bc-bea7-02c9cac4c876",
   "metadata": {},
   "outputs": [
    {
     "name": "stdout",
     "output_type": "stream",
     "text": [
      "\n",
      "Question 38: Convert each range to list\n",
      "Converted dictionary: {'r1': [0, 1, 2], 'r2': [0, 1, 2, 3, 4]}\n"
     ]
    }
   ],
   "source": [
    "print(\"\\nQuestion 38: Convert each range to list\")\n",
    "d = {\n",
    "    'r1': range(3),\n",
    "    'r2': range(5)\n",
    "}\n",
    "converted = {key: list(value) for key, value in d.items()}\n",
    "print(\"Converted dictionary:\", converted)\n"
   ]
  },
  {
   "cell_type": "code",
   "execution_count": 90,
   "id": "f333cf11-f83b-49c3-ba59-2571ac0c1f87",
   "metadata": {},
   "outputs": [
    {
     "name": "stdout",
     "output_type": "stream",
     "text": [
      "\n",
      "Question 39: Create a dictionary with generator values\n",
      "Dictionary with generator values: {'gen1': <generator object <genexpr> at 0x00000183087FFA00>, 'gen2': <generator object <genexpr> at 0x000001830918FC60>}\n"
     ]
    }
   ],
   "source": [
    "print(\"\\nQuestion 39: Create a dictionary with generator values\")\n",
    "\n",
    "d = {\n",
    "    'gen1': (x for x in range(3)),\n",
    "    'gen2': (x**2 for x in range(5))\n",
    "}\n",
    "\n",
    "print(\"Dictionary with generator values:\", d)\n"
   ]
  },
  {
   "cell_type": "code",
   "execution_count": 91,
   "id": "c7a69b90-38e7-43c7-8482-a107841062b7",
   "metadata": {},
   "outputs": [
    {
     "name": "stdout",
     "output_type": "stream",
     "text": [
      "\n",
      "Question 40: Convert each generator to list\n",
      "Converted dictionary: {'gen1': [0, 1, 2], 'gen2': [0, 1, 4, 9, 16]}\n"
     ]
    }
   ],
   "source": [
    "print(\"\\nQuestion 40: Convert each generator to list\")\n",
    "d = {\n",
    "    'gen1': (x for x in range(3)),\n",
    "    'gen2': (x**2 for x in range(5))\n",
    "}\n",
    "\n",
    "converted = {key: list(value) for key, value in d.items()}\n",
    "print(\"Converted dictionary:\", converted)\n"
   ]
  },
  {
   "cell_type": "code",
   "execution_count": 93,
   "id": "b8407157-0336-44e8-8038-26490ab3a5a8",
   "metadata": {},
   "outputs": [
    {
     "name": "stdout",
     "output_type": "stream",
     "text": [
      "\n",
      "Question 41: Create a dictionary with iterator values\n",
      "Dictionary with iterator values created: {'it1': <list_iterator object at 0x0000018308B23400>, 'it2': <list_iterator object at 0x0000018308B2BE20>}\n"
     ]
    }
   ],
   "source": [
    "print(\"\\nQuestion 41: Create a dictionary with iterator values\")\n",
    "d = {\n",
    "    'it1': iter([1, 2, 3]),\n",
    "    'it2': iter(['a', 'b', 'c'])\n",
    "}\n",
    "\n",
    "print(\"Dictionary with iterator values created:\",d)\n"
   ]
  },
  {
   "cell_type": "code",
   "execution_count": 95,
   "id": "b4428641-0286-46e4-a35b-937d9c3a6c91",
   "metadata": {},
   "outputs": [
    {
     "name": "stdout",
     "output_type": "stream",
     "text": [
      "\n",
      "Question 42: Extract all elements from each iterator\n",
      "Extracted elements: {'it1': [1, 2, 3], 'it2': ['a', 'b', 'c']}\n"
     ]
    }
   ],
   "source": [
    "print(\"\\nQuestion 42: Extract all elements from each iterator\")\n",
    "my_dict = {\n",
    "    'it1': iter([1, 2, 3]),\n",
    "    'it2': iter(['a', 'b', 'c'])\n",
    "}\n",
    "extracted = {key: list(value) for key, value in my_dict.items()}\n",
    "print(\"Extracted elements:\", extracted)\n"
   ]
  },
  {
   "cell_type": "code",
   "execution_count": 96,
   "id": "75b52ca1-c4d3-41d9-91f4-ff30682d6cf3",
   "metadata": {},
   "outputs": [
    {
     "name": "stdout",
     "output_type": "stream",
     "text": [
      "\n",
      "Question 43: Create a dictionary with nested lists: {'matrix': [[1, 2], [3, 4]], 'vector': [5, 6, 7]}\n",
      "Dictionary with nested lists: {'matrix': [[1, 2], [3, 4]], 'vector': [5, 6, 7]}\n"
     ]
    }
   ],
   "source": [
    "print(\"\\nQuestion 43: Create a dictionary with nested lists: {'matrix': [[1, 2], [3, 4]], 'vector': [5, 6, 7]}\")\n",
    "my_dict = {\n",
    "    'matrix': [[1, 2], [3, 4]],\n",
    "    'vector': [5, 6, 7]\n",
    "}\n",
    "print(\"Dictionary with nested lists:\", my_dict)\n"
   ]
  },
  {
   "cell_type": "code",
   "execution_count": 97,
   "id": "6b4230cb-c4f7-4c0b-9c48-0a71612bac99",
   "metadata": {},
   "outputs": [
    {
     "name": "stdout",
     "output_type": "stream",
     "text": [
      "\n",
      "Question 44: Find sum of each nested list\n",
      "Sum of each nested list: {'matrix': [3, 7], 'vector': 18}\n"
     ]
    }
   ],
   "source": [
    "print(\"\\nQuestion 44: Find sum of each nested list\")\n",
    "my_dict = {\n",
    "    'matrix': [[1, 2], [3, 4]],\n",
    "    'vector': [5, 6, 7]\n",
    "}\n",
    "\n",
    "sums = {key: sum(item) if isinstance(item[0], int) else [sum(sub) for sub in item] \n",
    "        for key, item in my_dict.items()}\n",
    "\n",
    "print(\"Sum of each nested list:\", sums)\n"
   ]
  },
  {
   "cell_type": "code",
   "execution_count": 98,
   "id": "9c07d2e9-3992-40c9-a70d-9e5cfa0a8a19",
   "metadata": {},
   "outputs": [
    {
     "name": "stdout",
     "output_type": "stream",
     "text": [
      "\n",
      "Question 44: Find sum of each nested list\n",
      "Sum of each nested list: {'matrix': [3, 7], 'vector': 18}\n"
     ]
    }
   ],
   "source": [
    "print(\"\\nQuestion 44: Find sum of each nested list\")\n",
    "\n",
    "my_dict = {\n",
    "    'matrix': [[1, 2], [3, 4]],\n",
    "    'vector': [5, 6, 7]\n",
    "}\n",
    "\n",
    "sums = {key: sum(item) if isinstance(item[0], int) else [sum(sub) for sub in item] \n",
    "        for key, item in my_dict.items()}\n",
    "\n",
    "print(\"Sum of each nested list:\", sums)\n"
   ]
  },
  {
   "cell_type": "code",
   "execution_count": 99,
   "id": "7363baf7-71d3-40a2-8652-61c952f1fa1c",
   "metadata": {},
   "outputs": [
    {
     "name": "stdout",
     "output_type": "stream",
     "text": [
      "\n",
      "Question 46: Access database port from nested configuration\n",
      "Database Port: 5432\n"
     ]
    }
   ],
   "source": [
    "print(\"\\nQuestion 46: Access database port from nested configuration\")\n",
    "config = {\n",
    "    \"database\": {\n",
    "        \"host\": \"localhost\",\n",
    "        \"port\": 5432,\n",
    "        \"user\": \"admin\"\n",
    "    }\n",
    "}\n",
    "\n",
    "print(\"Database Port:\", config[\"database\"][\"port\"])\n"
   ]
  },
  {
   "cell_type": "code",
   "execution_count": 100,
   "id": "9072b9a2-bd33-4d08-8810-06dbc927bf22",
   "metadata": {},
   "outputs": [
    {
     "name": "stdout",
     "output_type": "stream",
     "text": [
      "\n",
      "Question 47: Create a dictionary with nested tuples: {'points': ((1, 2), (3, 4)), 'rgb': ((255, 0, 0), (0, 255, 0))}\n",
      "{'points': ((1, 2), (3, 4)), 'rgb': ((255, 0, 0), (0, 255, 0))}\n"
     ]
    }
   ],
   "source": [
    "print(\"\\nQuestion 47: Create a dictionary with nested tuples: {'points': ((1, 2), (3, 4)), 'rgb': ((255, 0, 0), (0, 255, 0))}\")\n",
    "\n",
    "d = {\n",
    "    'points': ((1, 2), (3, 4)),\n",
    "    'rgb': ((255, 0, 0), (0, 255, 0))\n",
    "}\n",
    "\n",
    "print(d)\n"
   ]
  },
  {
   "cell_type": "code",
   "execution_count": 101,
   "id": "0f5afde1-8bcd-45fc-831c-414d38a09fd1",
   "metadata": {},
   "outputs": [
    {
     "name": "stdout",
     "output_type": "stream",
     "text": [
      "\n",
      "Question 48: Extract first point coordinates\n",
      "First point coordinates: (1, 2)\n"
     ]
    }
   ],
   "source": [
    "print(\"\\nQuestion 48: Extract first point coordinates\")\n",
    "d = {\n",
    "    'points': ((1, 2), (3, 4)),\n",
    "    'rgb': ((255, 0, 0), (0, 255, 0))\n",
    "}\n",
    "\n",
    "first_point = d['points'][0]\n",
    "print(\"First point coordinates:\", first_point)\n"
   ]
  },
  {
   "cell_type": "code",
   "execution_count": 102,
   "id": "62707c16-7b15-4e5a-a570-39d5b6dd9618",
   "metadata": {},
   "outputs": [
    {
     "name": "stdout",
     "output_type": "stream",
     "text": [
      "\n",
      "Question 49: Create a dictionary with nested sets using lists of sets\n",
      "Dictionary with nested sets: {'groups': [{1, 2, 3}, {4, 5, 6}], 'categories': [{'b', 'a'}, {'c', 'd'}]}\n"
     ]
    }
   ],
   "source": [
    "print(\"\\nQuestion 49: Create a dictionary with nested sets using lists of sets\")\n",
    "my_dict = {\n",
    "    'groups': [{1, 2, 3}, {4, 5, 6}],\n",
    "    'categories': [{'a', 'b'}, {'c', 'd'}]\n",
    "}\n",
    "print(\"Dictionary with nested sets:\", my_dict)"
   ]
  },
  {
   "cell_type": "code",
   "execution_count": 104,
   "id": "3f1e46e1-4996-4ea1-b562-a8057609f4ed",
   "metadata": {},
   "outputs": [
    {
     "name": "stdout",
     "output_type": "stream",
     "text": [
      "\n",
      "Question 50: Find union of all nested sets\n",
      "Union of groups: {1, 2, 3, 4, 5, 6}\n",
      "Union of categories: {'c', 'b', 'a', 'd'}\n"
     ]
    }
   ],
   "source": [
    "print(\"\\nQuestion 50: Find union of all nested sets\")\n",
    "d = {\n",
    "    'groups': [{1, 2, 3}, {4, 5, 6}],\n",
    "    'categories': [{'a', 'b'}, {'c', 'd'}]\n",
    "}\n",
    "union_groups = set().union(*my_dict['groups'])\n",
    "union_categories = set().union(*my_dict['categories'])\n",
    "print(f\"Union of groups: {union_groups}\")\n",
    "print(f\"Union of categories: {union_categories}\")\n"
   ]
  },
  {
   "cell_type": "code",
   "execution_count": null,
   "id": "98a1c978-5962-46bd-b950-905d10a9a36d",
   "metadata": {},
   "outputs": [],
   "source": []
  }
 ],
 "metadata": {
  "kernelspec": {
   "display_name": "Python 3 (ipykernel)",
   "language": "python",
   "name": "python3"
  },
  "language_info": {
   "codemirror_mode": {
    "name": "ipython",
    "version": 3
   },
   "file_extension": ".py",
   "mimetype": "text/x-python",
   "name": "python",
   "nbconvert_exporter": "python",
   "pygments_lexer": "ipython3",
   "version": "3.13.5"
  }
 },
 "nbformat": 4,
 "nbformat_minor": 5
}
