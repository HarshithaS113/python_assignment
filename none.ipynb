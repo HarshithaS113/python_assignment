{
 "cells": [
  {
   "cell_type": "code",
   "execution_count": 1,
   "id": "634a9794",
   "metadata": {},
   "outputs": [
    {
     "name": "stdout",
     "output_type": "stream",
     "text": [
      "SOLVED EXAMPLE:\n",
      "Check if a variable is None\n",
      "Variable: None\n",
      "Is None: True\n",
      "--------------------------------------------------\n"
     ]
    }
   ],
   "source": [
    "print(\"SOLVED EXAMPLE:\")\n",
    "print(\"Check if a variable is None\")\n",
    "variable = None\n",
    "is_none = variable is None\n",
    "print(f\"Variable: {variable}\")\n",
    "print(f\"Is None: {is_none}\")\n",
    "print(\"-\" * 50)"
   ]
  },
  {
   "cell_type": "code",
   "execution_count": 5,
   "id": "abba6994",
   "metadata": {},
   "outputs": [
    {
     "name": "stdout",
     "output_type": "stream",
     "text": [
      "Question 1: Create a variable and assign None to it\n",
      "the value of var is: None\n",
      "type:<class 'NoneType'>\n"
     ]
    }
   ],
   "source": [
    "print(\"Question 1: Create a variable and assign None to it\")\n",
    "var = None \n",
    "print(f\"the value of var is: {var}\")\n",
    "print(f\"type:{type(var)}\")"
   ]
  },
  {
   "cell_type": "code",
   "execution_count": 3,
   "id": "7d183287",
   "metadata": {},
   "outputs": [
    {
     "name": "stdout",
     "output_type": "stream",
     "text": [
      "Question 1: Create a variable and assign None to it\n",
      "The value of x is: None\n",
      "Type of x: <class 'NoneType'>\n"
     ]
    }
   ],
   "source": [
    "print(\"Question 1: Create a variable and assign None to it\")\n",
    "x = None\n",
    "print(f\"The value of x is: {x}\")\n",
    "print(f\"Type of x: {type(x)}\""
   ]
  },
  {
   "cell_type": "code",
   "execution_count": 6,
   "id": "126dd0cc",
   "metadata": {},
   "outputs": [
    {
     "name": "stdout",
     "output_type": "stream",
     "text": [
      "\n",
      "Question 2: Check if None equals None\n",
      "True\n"
     ]
    }
   ],
   "source": [
    "print(\"\\nQuestion 2: Check if None equals None\")\n",
    "x1 = None\n",
    "x2 = None\n",
    "print(x1 == x2)"
   ]
  },
  {
   "cell_type": "code",
   "execution_count": 7,
   "id": "52e08831",
   "metadata": {},
   "outputs": [
    {
     "name": "stdout",
     "output_type": "stream",
     "text": [
      "\n",
      "Question 3: Check if None is None\n",
      "True\n"
     ]
    }
   ],
   "source": [
    "print(\"\\nQuestion 3: Check if None is None\")\n",
    "x1 = None\n",
    "x2 = None\n",
    "print(x1 is x2)"
   ]
  },
  {
   "cell_type": "code",
   "execution_count": 8,
   "id": "747fddb9",
   "metadata": {},
   "outputs": [
    {
     "name": "stdout",
     "output_type": "stream",
     "text": [
      "\n",
      "Question 4: Check if 0 is None\n",
      "False\n"
     ]
    }
   ],
   "source": [
    "print(\"\\nQuestion 4: Check if 0 is None\")\n",
    "x1 = 0\n",
    "x2 = None\n",
    "print(x1 is x2)"
   ]
  },
  {
   "cell_type": "code",
   "execution_count": 9,
   "id": "a3777008",
   "metadata": {},
   "outputs": [
    {
     "name": "stdout",
     "output_type": "stream",
     "text": [
      "\n",
      "Question 5: Check if empty string is None\n",
      "False\n"
     ]
    }
   ],
   "source": [
    "print(\"\\nQuestion 5: Check if empty string is None\")\n",
    "x1 = \" \"\n",
    "x2 = None\n",
    "print(x1 is x2)"
   ]
  },
  {
   "cell_type": "code",
   "execution_count": 10,
   "id": "0aecf042",
   "metadata": {},
   "outputs": [
    {
     "name": "stdout",
     "output_type": "stream",
     "text": [
      "\n",
      "Question 6: Check if False is None\n",
      "False\n"
     ]
    }
   ],
   "source": [
    "print(\"\\nQuestion 6: Check if False is None\")\n",
    "x1 = False\n",
    "x2 = None\n",
    "print(x1 is x2)"
   ]
  },
  {
   "cell_type": "code",
   "execution_count": 11,
   "id": "c1682309",
   "metadata": {},
   "outputs": [
    {
     "name": "stdout",
     "output_type": "stream",
     "text": [
      "\n",
      "Question 7: Check if empty list is None\n",
      "False\n"
     ]
    }
   ],
   "source": [
    "print(\"\\nQuestion 7: Check if empty list is None\")\n",
    "l = []\n",
    "x = None\n",
    "print(l is x)"
   ]
  },
  {
   "cell_type": "code",
   "execution_count": 12,
   "id": "41a6b417",
   "metadata": {},
   "outputs": [
    {
     "name": "stdout",
     "output_type": "stream",
     "text": [
      "\n",
      "Question 8: Check if empty dictionary is None\n",
      "False\n"
     ]
    }
   ],
   "source": [
    "print(\"\\nQuestion 8: Check if empty dictionary is None\")\n",
    "d = {}\n",
    "x = None\n",
    "print(d is x)"
   ]
  },
  {
   "cell_type": "code",
   "execution_count": 13,
   "id": "681f27eb",
   "metadata": {},
   "outputs": [
    {
     "name": "stdout",
     "output_type": "stream",
     "text": [
      "\n",
      "Question 9: Check if empty tuple is None\n",
      "False\n"
     ]
    }
   ],
   "source": [
    "print(\"\\nQuestion 9: Check if empty tuple is None\")\n",
    "t = ()\n",
    "x = None\n",
    "print(t is x)"
   ]
  },
  {
   "cell_type": "code",
   "execution_count": 14,
   "id": "2fec459d",
   "metadata": {},
   "outputs": [
    {
     "name": "stdout",
     "output_type": "stream",
     "text": [
      "\n",
      "Question 10: Check if empty set is None\n",
      "False\n"
     ]
    }
   ],
   "source": [
    "print(\"\\nQuestion 10: Check if empty set is None\")\n",
    "s = set()\n",
    "x = None\n",
    "print(s is x)"
   ]
  },
  {
   "cell_type": "code",
   "execution_count": null,
   "id": "a97edc43",
   "metadata": {},
   "outputs": [],
   "source": []
  }
 ],
 "metadata": {
  "kernelspec": {
   "display_name": "Python 3 (ipykernel)",
   "language": "python",
   "name": "python3"
  },
  "language_info": {
   "codemirror_mode": {
    "name": "ipython",
    "version": 3
   },
   "file_extension": ".py",
   "mimetype": "text/x-python",
   "name": "python",
   "nbconvert_exporter": "python",
   "pygments_lexer": "ipython3",
   "version": "3.9.13"
  }
 },
 "nbformat": 4,
 "nbformat_minor": 5
}
