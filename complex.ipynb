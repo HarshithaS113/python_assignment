{
 "cells": [
  {
   "cell_type": "code",
   "execution_count": 1,
   "id": "475a00a5",
   "metadata": {},
   "outputs": [
    {
     "name": "stdout",
     "output_type": "stream",
     "text": [
      "SOLVED EXAMPLE:\n",
      "Create a complex number and find its conjugate\n",
      "Complex number: (3+4j)\n",
      "Conjugate: (3-4j)\n",
      "Magnitude: 5.0\n",
      "--------------------------------------------------\n"
     ]
    }
   ],
   "source": [
    "print(\"SOLVED EXAMPLE:\")\n",
    "print(\"Create a complex number and find its conjugate\")\n",
    "z = 3 + 4j\n",
    "conjugate = z.conjugate()\n",
    "magnitude = abs(z)\n",
    "print(f\"Complex number: {z}\")\n",
    "print(f\"Conjugate: {conjugate}\")\n",
    "print(f\"Magnitude: {magnitude}\")\n",
    "print(\"-\" * 50)"
   ]
  },
  {
   "cell_type": "code",
   "execution_count": 3,
   "id": "b7ae8222",
   "metadata": {},
   "outputs": [
    {
     "name": "stdout",
     "output_type": "stream",
     "text": [
      "Question 1: Create complex number 5 + 3j\n",
      "complexx number is:(5+3j)\n"
     ]
    }
   ],
   "source": [
    "print(\"Question 1: Create complex number 5 + 3j\")\n",
    "z = 5+3j\n",
    "print(f\"complexx number is:{z}\")"
   ]
  },
  {
   "cell_type": "code",
   "execution_count": 4,
   "id": "80132b7c",
   "metadata": {},
   "outputs": [
    {
     "name": "stdout",
     "output_type": "stream",
     "text": [
      "\n",
      "Question 2: Find the real part of complex number 7 - 2j\n",
      "the real part of the complex number is 7.0\n"
     ]
    }
   ],
   "source": [
    "print(\"\\nQuestion 2: Find the real part of complex number 7 - 2j\")\n",
    "z = 7-2j\n",
    "print(f\"The real part of the complex number is {z.real}\")"
   ]
  },
  {
   "cell_type": "code",
   "execution_count": 6,
   "id": "02abe901",
   "metadata": {},
   "outputs": [
    {
     "name": "stdout",
     "output_type": "stream",
     "text": [
      "\n",
      "Question 3: Find the imaginary part of complex number 4 + 6j\n",
      "the imaginary part of complex number is 6.0\n"
     ]
    }
   ],
   "source": [
    "print(\"\\nQuestion 3: Find the imaginary part of complex number 4 + 6j\")\n",
    "z = 4+6j\n",
    "print(f\"the imaginary part of complex number is {z.imag}\")"
   ]
  },
  {
   "cell_type": "code",
   "execution_count": 7,
   "id": "85e0f7b8",
   "metadata": {},
   "outputs": [
    {
     "name": "stdout",
     "output_type": "stream",
     "text": [
      "\n",
      "Question 4: Add two complex numbers: (3 + 2j) and (1 + 4j)\n",
      "addition of z1 and z2 is (4+6j)\n"
     ]
    }
   ],
   "source": [
    "print(\"\\nQuestion 4: Add two complex numbers: (3 + 2j) and (1 + 4j)\")\n",
    "z1 = 3+2j\n",
    "z2 = 1+4j\n",
    "result = z1+z2\n",
    "print(f\"addition of z1 and z2 is {result}\")"
   ]
  },
  {
   "cell_type": "code",
   "execution_count": 8,
   "id": "bcca7581",
   "metadata": {},
   "outputs": [
    {
     "name": "stdout",
     "output_type": "stream",
     "text": [
      "\n",
      "Question 5: Multiply two complex numbers: (2 + 3j) and (1 + 2j)\n",
      "(-4+7j)\n"
     ]
    }
   ],
   "source": [
    "print(\"\\nQuestion 5: Multiply two complex numbers: (2 + 3j) and (1 + 2j)\")\n",
    "z1 = 2+3j\n",
    "z2 = 1+2J\n",
    "result = z1*z2\n",
    "print(result)"
   ]
  },
  {
   "cell_type": "code",
   "execution_count": 11,
   "id": "3bde2fea",
   "metadata": {},
   "outputs": [
    {
     "name": "stdout",
     "output_type": "stream",
     "text": [
      "\n",
      "Question 6: Find the magnitude of complex number 6 + 8j\n",
      "the magnitude of the complex number is 10.0\n"
     ]
    }
   ],
   "source": [
    "print(\"\\nQuestion 6: Find the magnitude of complex number 6 + 8j\")\n",
    "z = 6+8j\n",
    "print(f\"the magnitude of the complex number is {abs(z)}\")"
   ]
  },
  {
   "cell_type": "code",
   "execution_count": 15,
   "id": "7ac9bec9",
   "metadata": {},
   "outputs": [
    {
     "name": "stdout",
     "output_type": "stream",
     "text": [
      "\n",
      "Question 7: Find the conjugate of complex number 5 - 7j\n",
      "the conjugate of complex number (5 - 7j) is (5+7j)\n"
     ]
    }
   ],
   "source": [
    "print(\"\\nQuestion 7: Find the conjugate of complex number 5 - 7j\")\n",
    "z = 5-7j\n",
    "conjugate = z.conjugate()\n",
    "print(f\"the conjugate of complex number (5 - 7j) is {conjugate}\")"
   ]
  },
  {
   "cell_type": "code",
   "execution_count": 16,
   "id": "2fe26250",
   "metadata": {},
   "outputs": [
    {
     "name": "stdout",
     "output_type": "stream",
     "text": [
      "\n",
      "Question 8: Subtract complex numbers: (10 + 5j) - (3 + 2j)\n",
      "(7+3j)\n"
     ]
    }
   ],
   "source": [
    "print(\"\\nQuestion 8: Subtract complex numbers: (10 + 5j) - (3 + 2j)\")\n",
    "z1 = (10 + 5j)\n",
    "z2 = (3 + 2j)\n",
    "result = z1 - z2\n",
    "print(result)"
   ]
  },
  {
   "cell_type": "code",
   "execution_count": 17,
   "id": "fafc05ed",
   "metadata": {},
   "outputs": [
    {
     "name": "stdout",
     "output_type": "stream",
     "text": [
      "\n",
      "Question 9: Divide complex numbers: (8 + 6j) / (2 + 1j)\n",
      "(4.4+0.8j)\n"
     ]
    }
   ],
   "source": [
    "print(\"\\nQuestion 9: Divide complex numbers: (8 + 6j) / (2 + 1j)\")\n",
    "z1 = (8 + 6j)\n",
    "z2 = (2 + 1j)\n",
    "result = z1/z2\n",
    "print(result)"
   ]
  },
  {
   "cell_type": "code",
   "execution_count": 19,
   "id": "33caa544",
   "metadata": {},
   "outputs": [
    {
     "name": "stdout",
     "output_type": "stream",
     "text": [
      "\n",
      "Question 10: Find the phase angle of complex number 1 + 1j\n",
      "0.7853981633974483\n"
     ]
    }
   ],
   "source": [
    "print(\"\\nQuestion 10: Find the phase angle of complex number 1 + 1j\")\n",
    "import cmath\n",
    "z = 1 + 1j\n",
    "phase_angle = cmath.phase(z)\n",
    "print(phase_angle)"
   ]
  },
  {
   "cell_type": "code",
   "execution_count": null,
   "id": "edf0fffe",
   "metadata": {},
   "outputs": [],
   "source": []
  }
 ],
 "metadata": {
  "kernelspec": {
   "display_name": "Python 3 (ipykernel)",
   "language": "python",
   "name": "python3"
  },
  "language_info": {
   "codemirror_mode": {
    "name": "ipython",
    "version": 3
   },
   "file_extension": ".py",
   "mimetype": "text/x-python",
   "name": "python",
   "nbconvert_exporter": "python",
   "pygments_lexer": "ipython3",
   "version": "3.9.13"
  }
 },
 "nbformat": 4,
 "nbformat_minor": 5
}
