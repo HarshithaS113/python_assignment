{
 "cells": [
  {
   "cell_type": "code",
   "execution_count": 23,
   "id": "35d8b7a1",
   "metadata": {},
   "outputs": [
    {
     "name": "stdout",
     "output_type": "stream",
     "text": [
      "SOLVED EXAMPLE:\n",
      "Check if a number is both even and greater than 10\n",
      "Number: 16\n",
      "Is even: True\n",
      "Is greater than 10: True\n",
      "Both conditions: True\n",
      "--------------------------------------------------\n"
     ]
    }
   ],
   "source": [
    "print(\"SOLVED EXAMPLE:\")\n",
    "print(\"Check if a number is both even and greater than 10\")\n",
    "number = 16\n",
    "is_even = number % 2 == 0\n",
    "is_greater_than_10 = number > 10\n",
    "result = is_even and is_greater_than_10\n",
    "print(f\"Number: {number}\")\n",
    "print(f\"Is even: {is_even}\")\n",
    "print(f\"Is greater than 10: {is_greater_than_10}\")\n",
    "print(f\"Both conditions: {result}\")\n",
    "print(\"-\" * 50)"
   ]
  },
  {
   "cell_type": "code",
   "execution_count": 24,
   "id": "3de590c9",
   "metadata": {},
   "outputs": [
    {
     "name": "stdout",
     "output_type": "stream",
     "text": [
      "Question 1: Check if 25 is greater than 20 and less than 30\n",
      "true\n"
     ]
    }
   ],
   "source": [
    "print(\"Question 1: Check if 25 is greater than 20 and less than 30\")\n",
    "num = 25\n",
    "if 20 < num < 30:\n",
    "    print(\"true\")\n",
    "else:\n",
    "    print(\"false\")"
   ]
  },
  {
   "cell_type": "code",
   "execution_count": 25,
   "id": "c955f983",
   "metadata": {},
   "outputs": [
    {
     "name": "stdout",
     "output_type": "stream",
     "text": [
      "Question 1: Check if 25 is greater than 20 and less than 30\n",
      "True\n"
     ]
    }
   ],
   "source": [
    "print(\"Question 1: Check if 25 is greater than 20 and less than 30\")\n",
    "num = 25\n",
    "print(20<num<30)"
   ]
  },
  {
   "cell_type": "code",
   "execution_count": 26,
   "id": "de2242a8",
   "metadata": {},
   "outputs": [
    {
     "name": "stdout",
     "output_type": "stream",
     "text": [
      "\n",
      "Question 2: Check if string 'python' is equal to 'Python' (case sensitive)\n",
      "False\n"
     ]
    }
   ],
   "source": [
    "print(\"\\nQuestion 2: Check if string 'python' is equal to 'Python' (case sensitive)\")\n",
    "str1 = \"python\"\n",
    "str2 = \"Python\"\n",
    "if str1 == str2:\n",
    "    print(\"true\")\n",
    "else:\n",
    "    print(\"False\")"
   ]
  },
  {
   "cell_type": "code",
   "execution_count": 27,
   "id": "ce6ec579",
   "metadata": {},
   "outputs": [
    {
     "name": "stdout",
     "output_type": "stream",
     "text": [
      "\n",
      "Question 2: Check if string 'python' is equal to 'Python' (case sensitive)\n",
      "False\n"
     ]
    }
   ],
   "source": [
    "print(\"\\nQuestion 2: Check if string 'python' is equal to 'Python' (case sensitive)\")\n",
    "str1 = \"python\"\n",
    "str2 = \"Python\"\n",
    "print(str1 == str2)"
   ]
  },
  {
   "cell_type": "code",
   "execution_count": 28,
   "id": "bfeff94f",
   "metadata": {},
   "outputs": [
    {
     "name": "stdout",
     "output_type": "stream",
     "text": [
      "\n",
      "Question 3: Check if 15 is divisible by both 3 and 5\n",
      "true\n"
     ]
    }
   ],
   "source": [
    "print(\"\\nQuestion 3: Check if 15 is divisible by both 3 and 5\")\n",
    "num = 15\n",
    "if num % 3 == 0 and num % 5 == 0:\n",
    "    print(\"true\")\n",
    "else:\n",
    "    print(\"false\")"
   ]
  },
  {
   "cell_type": "code",
   "execution_count": 29,
   "id": "c12f533b",
   "metadata": {},
   "outputs": [
    {
     "name": "stdout",
     "output_type": "stream",
     "text": [
      "\n",
      "Question 3: Check if 15 is divisible by both 3 and 5\n",
      "True\n"
     ]
    }
   ],
   "source": [
    "print(\"\\nQuestion 3: Check if 15 is divisible by both 3 and 5\")\n",
    "num = 15\n",
    "print(num % 3 == 0 and num % 5 == 0)"
   ]
  },
  {
   "cell_type": "code",
   "execution_count": 30,
   "id": "17ce8b93",
   "metadata": {},
   "outputs": [
    {
     "name": "stdout",
     "output_type": "stream",
     "text": [
      "\n",
      "Question 4: Check if 7 is not equal to 8\n",
      "false\n"
     ]
    }
   ],
   "source": [
    "print(\"\\nQuestion 4: Check if 7 is not equal to 8\")\n",
    "num1 = 7\n",
    "num2 = 8\n",
    "if num1 == num2:\n",
    "    print(\"true\")\n",
    "else:\n",
    "    print(\"false\")"
   ]
  },
  {
   "cell_type": "code",
   "execution_count": 31,
   "id": "c95acbd4",
   "metadata": {},
   "outputs": [
    {
     "name": "stdout",
     "output_type": "stream",
     "text": [
      "\n",
      "Question 4: Check if 7 is not equal to 8\n",
      "False\n"
     ]
    }
   ],
   "source": [
    "print(\"\\nQuestion 4: Check if 7 is not equal to 8\")\n",
    "num1 = 7\n",
    "num2 = 8\n",
    "print(num1 == num2)"
   ]
  },
  {
   "cell_type": "code",
   "execution_count": 32,
   "id": "4b672aea",
   "metadata": {},
   "outputs": [
    {
     "name": "stdout",
     "output_type": "stream",
     "text": [
      "\n",
      "Question 5: Check if 100 is greater than 50 or less than 25\n",
      "False\n"
     ]
    }
   ],
   "source": [
    "print(\"\\nQuestion 5: Check if 100 is greater than 50 or less than 25\")\n",
    "num = 100\n",
    "print(25 < num < 50)"
   ]
  },
  {
   "cell_type": "code",
   "execution_count": 33,
   "id": "64b37609",
   "metadata": {},
   "outputs": [
    {
     "name": "stdout",
     "output_type": "stream",
     "text": [
      "\n",
      "Question 6: Check if 0 is falsy in Python\n",
      "False\n"
     ]
    }
   ],
   "source": [
    "print(\"\\nQuestion 6: Check if 0 is falsy in Python\")\n",
    "num = 0\n",
    "print(bool(num))"
   ]
  },
  {
   "cell_type": "code",
   "execution_count": 34,
   "id": "469a8dc2",
   "metadata": {},
   "outputs": [
    {
     "name": "stdout",
     "output_type": "stream",
     "text": [
      "\n",
      "Question 7: Check if empty string '' is falsy in Python\n",
      "True\n"
     ]
    }
   ],
   "source": [
    "print(\"\\nQuestion 7: Check if empty string '' is falsy in Python\")\n",
    "l = \" \"\n",
    "print(bool(l))"
   ]
  },
  {
   "cell_type": "code",
   "execution_count": 35,
   "id": "59718b19",
   "metadata": {},
   "outputs": [
    {
     "name": "stdout",
     "output_type": "stream",
     "text": [
      "\n",
      "Question 8: Check if 42 is truthy in Python\n",
      "True\n"
     ]
    }
   ],
   "source": [
    "print(\"\\nQuestion 8: Check if 42 is truthy in Python\")\n",
    "num = 42\n",
    "print(bool(num))"
   ]
  },
  {
   "cell_type": "code",
   "execution_count": 36,
   "id": "d77a9737",
   "metadata": {},
   "outputs": [
    {
     "name": "stdout",
     "output_type": "stream",
     "text": [
      "\n",
      "Question 9: Check if 10 is between 5 and 15 (inclusive)\n",
      "True\n"
     ]
    }
   ],
   "source": [
    "print(\"\\nQuestion 9: Check if 10 is between 5 and 15 (inclusive)\")\n",
    "num = 10\n",
    "print(5<=10<=15)"
   ]
  },
  {
   "cell_type": "code",
   "execution_count": 37,
   "id": "3280c10a",
   "metadata": {},
   "outputs": [
    {
     "name": "stdout",
     "output_type": "stream",
     "text": [
      "\n",
      "Question 10: Check if 3.14 is greater than 3 and less than 4\n",
      "True\n"
     ]
    }
   ],
   "source": [
    "print(\"\\nQuestion 10: Check if 3.14 is greater than 3 and less than 4\")\n",
    "num = 3.14\n",
    "print(3<3.14<4)"
   ]
  },
  {
   "cell_type": "code",
   "execution_count": null,
   "id": "df0c6876",
   "metadata": {},
   "outputs": [],
   "source": []
  }
 ],
 "metadata": {
  "kernelspec": {
   "display_name": "Python 3 (ipykernel)",
   "language": "python",
   "name": "python3"
  },
  "language_info": {
   "codemirror_mode": {
    "name": "ipython",
    "version": 3
   },
   "file_extension": ".py",
   "mimetype": "text/x-python",
   "name": "python",
   "nbconvert_exporter": "python",
   "pygments_lexer": "ipython3",
   "version": "3.9.13"
  }
 },
 "nbformat": 4,
 "nbformat_minor": 5
}
