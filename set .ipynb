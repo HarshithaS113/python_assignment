{
 "cells": [
  {
   "cell_type": "code",
   "execution_count": 1,
   "id": "53b8532a",
   "metadata": {},
   "outputs": [
    {
     "name": "stdout",
     "output_type": "stream",
     "text": [
      "SOLVED EXAMPLE:\n",
      "Find the union of two sets\n",
      "Set 1: {1, 2, 3, 4, 5}\n",
      "Set 2: {4, 5, 6, 7, 8}\n",
      "Union: {1, 2, 3, 4, 5, 6, 7, 8}\n",
      "--------------------------------------------------\n"
     ]
    }
   ],
   "source": [
    "print(\"SOLVED EXAMPLE:\")\n",
    "print(\"Find the union of two sets\")\n",
    "set1 = {1, 2, 3, 4, 5}\n",
    "set2 = {4, 5, 6, 7, 8}\n",
    "union_set = set1.union(set2)\n",
    "print(f\"Set 1: {set1}\")\n",
    "print(f\"Set 2: {set2}\")\n",
    "print(f\"Union: {union_set}\")\n",
    "print(\"-\" * 50)"
   ]
  },
  {
   "cell_type": "code",
   "execution_count": 2,
   "id": "fc808b63",
   "metadata": {},
   "outputs": [
    {
     "name": "stdout",
     "output_type": "stream",
     "text": [
      "Question 1: Create a set of first 10 natural numbers\n",
      "The set of first 10 natural numbers are : {1, 2, 3, 4, 5, 6, 7, 8, 9, 10}\n"
     ]
    }
   ],
   "source": [
    "print(\"Question 1: Create a set of first 10 natural numbers\")\n",
    "set_num = {1,2,3,4,5,6,7,8,9,10}\n",
    "print(f\"The set of first 10 natural numbers are : {set_num}\")"
   ]
  },
  {
   "cell_type": "code",
   "execution_count": 3,
   "id": "c71388da",
   "metadata": {},
   "outputs": [
    {
     "name": "stdout",
     "output_type": "stream",
     "text": [
      "\n",
      "Question 2: Add element 11 to set {1, 2, 3, 4, 5}\n",
      "{1, 2, 3, 4, 5, 11}\n"
     ]
    }
   ],
   "source": [
    "print(\"\\nQuestion 2: Add element 11 to set {1, 2, 3, 4, 5}\")\n",
    "l = {1,2,3,4,5}\n",
    "l.add(11)\n",
    "print(l)"
   ]
  },
  {
   "cell_type": "code",
   "execution_count": 4,
   "id": "5e8142a2",
   "metadata": {},
   "outputs": [
    {
     "name": "stdout",
     "output_type": "stream",
     "text": [
      "\n",
      "Question 3: Remove element 3 from set {1, 2, 3, 4, 5, 6}\n",
      "{1, 2, 4, 5, 6}\n"
     ]
    }
   ],
   "source": [
    "print(\"\\nQuestion 3: Remove element 3 from set {1, 2, 3, 4, 5, 6}\")\n",
    "l = {1,2,3,4,5,6}\n",
    "l.remove(3)\n",
    "print(l)"
   ]
  },
  {
   "cell_type": "code",
   "execution_count": 5,
   "id": "52bc62e0",
   "metadata": {},
   "outputs": [
    {
     "name": "stdout",
     "output_type": "stream",
     "text": [
      "\n",
      "Question 4: Find the intersection of {1, 2, 3, 4, 5} and {4, 5, 6, 7, 8}\n",
      "{4, 5}\n"
     ]
    }
   ],
   "source": [
    "print(\"\\nQuestion 4: Find the intersection of {1, 2, 3, 4, 5} and {4, 5, 6, 7, 8}\")\n",
    "s1 = {1,2,3,4,5}\n",
    "s2 = {4,5,6,7,8}\n",
    "result = s1&s2\n",
    "print(result)"
   ]
  },
  {
   "cell_type": "code",
   "execution_count": 6,
   "id": "c4c73a12",
   "metadata": {},
   "outputs": [
    {
     "name": "stdout",
     "output_type": "stream",
     "text": [
      "\n",
      "Question 5: Find the difference between {1, 2, 3, 4, 5} and {4, 5, 6, 7, 8}\n",
      "{1, 2, 3}\n"
     ]
    }
   ],
   "source": [
    "print(\"\\nQuestion 5: Find the difference between {1, 2, 3, 4, 5} and {4, 5, 6, 7, 8}\")\n",
    "s1 = {1,2,3,4,5}\n",
    "s2 = {4,5,6,7,8}\n",
    "result = s1-s2\n",
    "print(result)"
   ]
  },
  {
   "cell_type": "code",
   "execution_count": 7,
   "id": "a91c05a8",
   "metadata": {},
   "outputs": [
    {
     "name": "stdout",
     "output_type": "stream",
     "text": [
      "\n",
      "Question 6: Check if 5 is in set {1, 2, 3, 4, 6, 7, 8}\n",
      "False\n"
     ]
    }
   ],
   "source": [
    "print(\"\\nQuestion 6: Check if 5 is in set {1, 2, 3, 4, 6, 7, 8}\")\n",
    "s = {1,2,3,4,6,7,8}\n",
    "print(5 in s )"
   ]
  },
  {
   "cell_type": "code",
   "execution_count": 8,
   "id": "a7b1a0c4",
   "metadata": {},
   "outputs": [
    {
     "name": "stdout",
     "output_type": "stream",
     "text": [
      "\n",
      "Question 7: Find the length of set {'a', 'b', 'c', 'd', 'e'}\n",
      "5\n"
     ]
    }
   ],
   "source": [
    "print(\"\\nQuestion 7: Find the length of set {'a', 'b', 'c', 'd', 'e'}\")\n",
    "s = {\"a\",\"b\",\"c\",\"d\",\"e\"}\n",
    "print(len(s))"
   ]
  },
  {
   "cell_type": "code",
   "execution_count": 14,
   "id": "be83f1d6",
   "metadata": {},
   "outputs": [
    {
     "name": "stdout",
     "output_type": "stream",
     "text": [
      "\n",
      "Question 8: Create a set of vowels from string 'hello world'\n",
      "{'o', 'e'}\n"
     ]
    }
   ],
   "source": [
    "print(\"\\nQuestion 8: Create a set of vowels from string 'hello world'\")\n",
    "text = \"hello world\"\n",
    "vowels = {'a','e','i','o','u'}\n",
    "result = {ch for ch in text if ch in vowels}\n",
    "print(result)"
   ]
  },
  {
   "cell_type": "code",
   "execution_count": 15,
   "id": "b41ba379",
   "metadata": {},
   "outputs": [
    {
     "name": "stdout",
     "output_type": "stream",
     "text": [
      "\n",
      "Question 9: Remove duplicates from list [1, 2, 2, 3, 4, 4, 5, 6, 6, 7] using set\n",
      "[1, 2, 3, 4, 5, 6, 7]\n"
     ]
    }
   ],
   "source": [
    "print(\"\\nQuestion 9: Remove duplicates from list [1, 2, 2, 3, 4, 4, 5, 6, 6, 7] using set\")\n",
    "numbers = [1, 2, 2, 3, 4, 4, 5, 6, 6, 7]\n",
    "unique_numbers = list(set(numbers))\n",
    "print(unique_numbers) "
   ]
  },
  {
   "cell_type": "code",
   "execution_count": 18,
   "id": "0e11c92f",
   "metadata": {},
   "outputs": [
    {
     "name": "stdout",
     "output_type": "stream",
     "text": [
      "\n",
      "Question 10: Check if {1, 2, 3} is a subset of {1, 2, 3, 4, 5, 6}\n",
      "True\n"
     ]
    }
   ],
   "source": [
    "print(\"\\nQuestion 10: Check if {1, 2, 3} is a subset of {1, 2, 3, 4, 5, 6}\")\n",
    "s1 = {1,2,3}\n",
    "s2 = {1,2,3,4,5,6}\n",
    "print(s1.issubset(s2))"
   ]
  },
  {
   "cell_type": "code",
   "execution_count": null,
   "id": "23ec2f48",
   "metadata": {},
   "outputs": [],
   "source": []
  }
 ],
 "metadata": {
  "kernelspec": {
   "display_name": "Python 3 (ipykernel)",
   "language": "python",
   "name": "python3"
  },
  "language_info": {
   "codemirror_mode": {
    "name": "ipython",
    "version": 3
   },
   "file_extension": ".py",
   "mimetype": "text/x-python",
   "name": "python",
   "nbconvert_exporter": "python",
   "pygments_lexer": "ipython3",
   "version": "3.9.13"
  }
 },
 "nbformat": 4,
 "nbformat_minor": 5
}
